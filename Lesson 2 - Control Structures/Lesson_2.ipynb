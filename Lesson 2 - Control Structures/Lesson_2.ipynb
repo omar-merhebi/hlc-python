{
 "cells": [
  {
   "cell_type": "markdown",
   "metadata": {
    "colab_type": "text",
    "id": "view-in-github"
   },
   "source": [
    "[![Open In Colab](https://colab.research.google.com/assets/colab-badge.svg)](https://colab.research.google.com/github/omar-merhebi/hlc-python/blob/master/Lesson%202%20-%20Control%20Structures/Lesson_2.ipynb)"
   ]
  },
  {
   "cell_type": "markdown",
   "metadata": {
    "colab_type": "text",
    "id": "T5WJjJnfpZWM"
   },
   "source": [
    "# Lesson 2 - Data structures, Control flows, and Python Ecosystems\n",
    "\n",
    "### Learning objectives: \n",
    "\n",
    "Students will be able to use data structures and control flows to make algorithms.\n",
    "\n",
    "### Specific coding skills:\n",
    "\n",
    "* Understanding basic data structures (list, dictionary, tuple, set)\n",
    "* Using if/else statements\n",
    "* Using loops (while/for)\n",
    "* Understanding python ecosystem and how packages work"
   ]
  },
  {
   "cell_type": "markdown",
   "metadata": {
    "colab_type": "text",
    "id": "L7kujO9M3V0X"
   },
   "source": [
    "## Introduction\n",
    "\n",
    "Last lesson, we introduced two data structures: lists and tuples. This lesson, we will introduce two new data structures, sets and dictionaries. After this, we will take a look at **control flow**. Control flow is the logic your code follows, whether certain parts are skipped based on conditions, or if we need to repeat certain chunks of code over and over, they **control** the **flow** of your code."
   ]
  },
  {
   "cell_type": "markdown",
   "metadata": {},
   "source": [
    "#### Sets\n",
    "\n",
    "A set is an unordered collection of unique items. They are mainly used for computing logical operations such as union, intersection, difference, and symmetric difference.\n",
    "\n",
    "\n",
    "![set operations](https://www.learnbyexample.org/wp-content/uploads/python/Python-Set-Operatioons.png)\n",
    "\n",
    "\n",
    "The important properties of Python sets are as follows:\n",
    "\n",
    "- Sets are unordered – Items stored in a set aren’t kept in any particular order.\n",
    "- Set items are unique – Duplicate items are not allowed.\n",
    "- Sets are unindexed – You cannot access set items by referring to an index.\n",
    "- Sets are changeable (mutable) – They can be changed in place, can grow and shrink on demand.\n",
    "\n",
    "Sets can be created by placing items comma-seperated values inside `{}`"
   ]
  },
  {
   "cell_type": "markdown",
   "metadata": {},
   "source": [
    "We have upregulated genes in tumor tissues compared to normal tissues from two patients. We would like to know if there is a shared upregulated genes."
   ]
  },
  {
   "cell_type": "code",
   "execution_count": null,
   "metadata": {},
   "outputs": [],
   "source": [
    "patient1 = {'ABCC1', 'BRCA1', 'BRCA2', 'HER2'}\n",
    "patient2 = {'BRCA1', 'HER2', 'ERCC1'}"
   ]
  },
  {
   "cell_type": "code",
   "execution_count": null,
   "metadata": {},
   "outputs": [],
   "source": [
    "# Set intersection"
   ]
  },
  {
   "cell_type": "markdown",
   "metadata": {},
   "source": [
    "Now let's consider that patient 1 is what we would consider \"healthy\" and patient 2 has been diagnosed with breast cancer. How can we find which genes are upregulated in patient 2 but not patient 1?"
   ]
  },
  {
   "cell_type": "code",
   "execution_count": null,
   "metadata": {},
   "outputs": [],
   "source": [
    "# Set difference \n"
   ]
  },
  {
   "cell_type": "markdown",
   "metadata": {
    "colab_type": "text",
    "id": "sbLhhtDPBw_M"
   },
   "source": [
    "### Dictionaries\n",
    "\n",
    "A dictionary is like an address-book where you can find the address or contact details of a person by knowing only his/her name i.e. we associate keys (name) with values (details). Note that the key must be unique just like you cannot find out the correct information if you have two persons with the exact same name.\n",
    "\n",
    "Note that you can use only immutable objects (like strings) for the keys of a dictionary but you can use either immutable or mutable objects for the values of the dictionary.\n",
    "\n",
    "Pairs of keys and values are specified in a dictionary by using the notation `d = {key1 : value1, key2 : value2 }`. Notice that the key-value pairs are separated by a colon and the pairs are separated themselves by commas and all this is enclosed in a pair of curly braces.\n",
    "\n",
    "The following example of a dictionary might be useful if you wanted to keep track of ages of patients in a clinical trial. "
   ]
  },
  {
   "cell_type": "code",
   "execution_count": null,
   "metadata": {
    "colab": {},
    "colab_type": "code",
    "id": "PL68GxZAFKit"
   },
   "outputs": [],
   "source": [
    "agesDict = {'Karen P.' : 53, 'Jessica M.': 47, 'David G.' : 45, 'Susan K.' : 57, 'Eric O.' : 50}\n",
    "print(agesDict)"
   ]
  },
  {
   "cell_type": "markdown",
   "metadata": {},
   "source": [
    "We can access a person's age (value) using his/her name (key). Let's find out Eric O.'s age."
   ]
  },
  {
   "cell_type": "code",
   "execution_count": null,
   "metadata": {},
   "outputs": [],
   "source": [
    "agesDict['Eric O.']"
   ]
  },
  {
   "cell_type": "markdown",
   "metadata": {},
   "source": [
    "A new patient is enrolled into the clinical trial. Her name is Hannah H. and her age is 39. We can add a new item to the dictoary."
   ]
  },
  {
   "cell_type": "code",
   "execution_count": null,
   "metadata": {},
   "outputs": [],
   "source": [
    "agesDict['Hannah H.'] = 39"
   ]
  },
  {
   "cell_type": "code",
   "execution_count": null,
   "metadata": {},
   "outputs": [],
   "source": [
    "print(agesDict)"
   ]
  },
  {
   "cell_type": "markdown",
   "metadata": {},
   "source": [
    "#### Data Structures Summary\n",
    "\n",
    "Now we have learned the four basic python data structures: list, tuple, set, and dictionary. We have jsut touched the surface of these data structures. To learn more about these data structures and how to use them, please refer to the references!"
   ]
  },
  {
   "cell_type": "markdown",
   "metadata": {
    "colab_type": "text",
    "id": "hOggiwzmMm1Z"
   },
   "source": [
    "### Exercises Part 1\n",
    "\n",
    "The following exercises will help you better understand data structures."
   ]
  },
  {
   "cell_type": "markdown",
   "metadata": {},
   "source": [
    "1. Make a list containing the following numbers 1, 4, 25, 7, 9, 12, 15, 16, and 21. Name the list `num_list`"
   ]
  },
  {
   "cell_type": "code",
   "execution_count": null,
   "metadata": {},
   "outputs": [],
   "source": [
    "# Q1"
   ]
  },
  {
   "cell_type": "markdown",
   "metadata": {},
   "source": [
    "2. Find the following information about the list you made in Q1: length, minimum, and maximum. You may need to google to find functions that can help you."
   ]
  },
  {
   "cell_type": "code",
   "execution_count": null,
   "metadata": {},
   "outputs": [],
   "source": [
    "# Q2\n",
    "# length"
   ]
  },
  {
   "cell_type": "code",
   "execution_count": null,
   "metadata": {},
   "outputs": [],
   "source": [
    "# minimum"
   ]
  },
  {
   "cell_type": "code",
   "execution_count": null,
   "metadata": {},
   "outputs": [],
   "source": [
    "# maximum"
   ]
  },
  {
   "cell_type": "markdown",
   "metadata": {},
   "source": [
    "3. Make a dictionary that describes the price of five medications. Name the dictionary `med_dict`\n",
    ">* Lisinopril: \t23.07\n",
    ">* Gabapentin: 86.27\n",
    ">* Sildenafil: \t169.94 \n",
    ">* Amoxicillin: 17.76\n",
    ">* Prednisone: 13.81"
   ]
  },
  {
   "cell_type": "code",
   "execution_count": null,
   "metadata": {},
   "outputs": [],
   "source": [
    "# Q4"
   ]
  },
  {
   "cell_type": "markdown",
   "metadata": {},
   "source": [
    "4. Use `med_dict` to calculate how much it will cost if a patien tis treated with Lisinopril and Prednisone."
   ]
  },
  {
   "cell_type": "code",
   "execution_count": null,
   "metadata": {},
   "outputs": [],
   "source": [
    "# Q5"
   ]
  },
  {
   "cell_type": "markdown",
   "metadata": {
    "colab": {},
    "colab_type": "code",
    "id": "jj1BdK9TiThp"
   },
   "source": [
    "## Control flows\n",
    "\n",
    "Now let's talk about control flow. What if you only want to run certain blocks of code when certain conditions are met? Or, you want to repeat some code so many times? We can use several types of logical statements to manage this.\n",
    "\n",
    "![logic](https://www.norwegiancreations.com/wp-content/uploads/2016/01/550pictionary.jpg)"
   ]
  },
  {
   "cell_type": "markdown",
   "metadata": {},
   "source": [
    "### If/else statment\n",
    "\n",
    "Decision making is required when we want to execute a code only if a certain condition is satisfied.\n",
    "\n",
    "The if/else statement is one of the most common ways to conditionally execute code. It does pretty much exactly what it sounds, which is tells Python if a certain condition is met, `condition` below, is met to run a specific block of code, `statement1`. If that condition isn't met, to run the code block `statement2`.\n",
    "\n",
    "```python\n",
    "if condition:\n",
    "    statment1\n",
    "else:\n",
    "    statement2\n",
    "```"
   ]
  },
  {
   "cell_type": "markdown",
   "metadata": {},
   "source": [
    "![ifelse](https://www.programiz.com/sites/tutorial2program/files/python-if-else.png)"
   ]
  },
  {
   "cell_type": "markdown",
   "metadata": {},
   "source": [
    "Let's say that we have a patient enrolled in a clinical trial. We measure their response to treatment, calling that the variable `response`, and we say that a response that is 0 or less is unresponsive to treatment, while positive values indicate a response. "
   ]
  },
  {
   "cell_type": "markdown",
   "metadata": {},
   "source": [
    "For now, let's say our response is -3.2"
   ]
  },
  {
   "cell_type": "code",
   "execution_count": null,
   "metadata": {},
   "outputs": [],
   "source": [
    "response = -3.2"
   ]
  },
  {
   "cell_type": "markdown",
   "metadata": {},
   "source": [
    "We want to increase our dose if the patient is unresponsive but keep it the same otherwise. Let's write an if/else statement that prints to the console the string `'increase dose'` when we want to increase and `'keep same'` when we want to keep the same dose."
   ]
  },
  {
   "cell_type": "code",
   "execution_count": null,
   "metadata": {},
   "outputs": [],
   "source": [
    "# if/else here"
   ]
  },
  {
   "cell_type": "markdown",
   "metadata": {},
   "source": [
    "Play around with the response variable, setting it do different values to see how the output changes."
   ]
  },
  {
   "cell_type": "markdown",
   "metadata": {},
   "source": [
    "Also, let's say we don't care about knowing whether to keep the same dose, and just want to know if we want to increase. We actually don't *need* an `else` statement:"
   ]
  },
  {
   "cell_type": "code",
   "execution_count": null,
   "metadata": {},
   "outputs": [],
   "source": [
    "response = - 3.2\n",
    "\n",
    "# type only the if statement here"
   ]
  },
  {
   "cell_type": "markdown",
   "metadata": {},
   "source": [
    "This basically tells Python, 'if this condition is met, run some code, but if not, just move on without doing anything special.'"
   ]
  },
  {
   "cell_type": "markdown",
   "metadata": {},
   "source": [
    "Python evaluates whatever you place in the condition into a boolean and if it is `True` it will run the code in the `if` block. Consequently, if you did:\n",
    "\n",
    "```python\n",
    "if True:\n",
    "    statement1\n",
    "```\n",
    "\n",
    "`statement1` will always run. You can test this above if you'd like."
   ]
  },
  {
   "cell_type": "markdown",
   "metadata": {},
   "source": [
    "Finally, we can use an `elif` statements in between the if/else to add extra conditions. For example:"
   ]
  },
  {
   "cell_type": "code",
   "execution_count": null,
   "metadata": {},
   "outputs": [],
   "source": [
    "number = 0\n",
    "\n",
    "if number > 0:\n",
    "    print('Positive number')\n",
    "\n",
    "elif number < 0:\n",
    "    print('Negative number')\n",
    "\n",
    "else:\n",
    "    print('Zero')"
   ]
  },
  {
   "cell_type": "markdown",
   "metadata": {},
   "source": [
    "Now let's say we want to go back to our original if/else statement:\n",
    "\n",
    "```python\n",
    "if response <= 0:\n",
    "    print('increase dose')\n",
    "    \n",
    "else:\n",
    "    print('keep same')\n",
    "```\n",
    "\n",
    "But, we want to make sure that we aren't being too agressive with our treatent. Add an elif statement the statement below where we say that we want to `'decrease dose'` if the responsse is greater than 10."
   ]
  },
  {
   "cell_type": "code",
   "execution_count": null,
   "metadata": {},
   "outputs": [],
   "source": [
    "# Add your elif to this if/else\n",
    "\n",
    "if response <= 0:\n",
    "    print('increase dose')\n",
    "\n",
    "else:\n",
    "    print('keep same')"
   ]
  },
  {
   "cell_type": "markdown",
   "metadata": {},
   "source": [
    "Good! We can use as many elif statemtents as we need to if we have many conditions we want to test, just remember that they will be executed in the order that you are written, so if you have cases that meet two conditions, only the first-tested condition will execute. \n",
    "\n",
    "For example:"
   ]
  },
  {
   "cell_type": "code",
   "execution_count": null,
   "metadata": {},
   "outputs": [],
   "source": [
    "number = 1000\n",
    "\n",
    "if number < 0:\n",
    "    print('negative')\n",
    "    \n",
    "elif number > 0: \n",
    "    print('positive')\n",
    "    \n",
    "elif number > 100:\n",
    "    print('large positive')\n",
    "    \n",
    "else:\n",
    "    print('zero')"
   ]
  },
  {
   "cell_type": "markdown",
   "metadata": {},
   "source": [
    "You can see that even though `number` is greater than `100`, we never get to that part of the code, because we've already executed the first `elif` statement."
   ]
  },
  {
   "cell_type": "markdown",
   "metadata": {},
   "source": [
    "### Loops\n",
    "\n",
    "Another type of control flow is a loop. A loop is also what it sounds like, it loops through the same code over and over until some condition tells it to stop or for a certain number of times. "
   ]
  },
  {
   "cell_type": "markdown",
   "metadata": {},
   "source": [
    "#### For loop\n",
    "\n",
    "The first loop we will learn about is called a `for` loop. This loop executes a code `for` a limited number of times. A foor loop looks generally like this:\n",
    "\n",
    "```python\n",
    "\n",
    "for variable in something:\n",
    "    do_this\n",
    "```"
   ]
  },
  {
   "cell_type": "markdown",
   "metadata": {},
   "source": [
    "The variable is a new variable that is created for that for loop. `i` and `ind` are common variable names used in loops as they are shorthand for 'index', but you can use (almost) anything you want. \n",
    "\n",
    "The `something` is what we are looping over. It can be a list (or other iterable, such as a tuple) or it can be a range of numbers. To specify a range of numbers we use the `range(x)` function. This tells the for loop to execute the code `x` number of times."
   ]
  },
  {
   "cell_type": "markdown",
   "metadata": {},
   "source": [
    "Let's say we want to print `'hello world'` ten times:"
   ]
  },
  {
   "cell_type": "code",
   "execution_count": null,
   "metadata": {},
   "outputs": [],
   "source": [
    "for i in range(10):\n",
    "    print('hello world')"
   ]
  },
  {
   "cell_type": "markdown",
   "metadata": {},
   "source": [
    "Now, you try the same thing, but this time print the i variable instead of hello world:"
   ]
  },
  {
   "cell_type": "code",
   "execution_count": null,
   "metadata": {},
   "outputs": [],
   "source": [
    "# Place your loop here"
   ]
  },
  {
   "cell_type": "markdown",
   "metadata": {},
   "source": [
    "Good! Notice how `i` starts at `0` and ends with `9`, this is the zero-based indexing we've seen before."
   ]
  },
  {
   "cell_type": "markdown",
   "metadata": {},
   "source": [
    "Now let's try looping over a list:"
   ]
  },
  {
   "cell_type": "code",
   "execution_count": null,
   "metadata": {},
   "outputs": [],
   "source": [
    "fruits = ['mango', 'kiwi', 'pear', 'lychee', 'watermelon']\n",
    "\n",
    "# We will create a for loop to print out each fruit's name:\n",
    "for fruit in fruits:\n",
    "    print(fruit)"
   ]
  },
  {
   "cell_type": "markdown",
   "metadata": {},
   "source": [
    "Notice how it's actually quite easy to understand what the for loop above is doing even if you're unfamilar with code. It's saying \"for each fruit in the list fruits, print out the fruit.\" This is part of the beauty of Python."
   ]
  },
  {
   "cell_type": "markdown",
   "metadata": {},
   "source": [
    "Let's try combining if/else satements and for loops. Pick your favorite fruit from the list above and have the for loop print it's name plus the string \" is my favorite fruit.\" Otherwise have it print the friut name plus \" is not my favorite fruit.\""
   ]
  },
  {
   "cell_type": "markdown",
   "metadata": {},
   "source": [
    "**Hint:** If I wanted to see if a variable is equal to the string apple, I would do:\n",
    "\n",
    "```python\n",
    "variable == 'apple'\n",
    "```"
   ]
  },
  {
   "cell_type": "code",
   "execution_count": null,
   "metadata": {},
   "outputs": [],
   "source": [
    "# for loop and if/else here"
   ]
  },
  {
   "cell_type": "markdown",
   "metadata": {},
   "source": [
    "In Python, we can use the `break` keyword to immediately stop a loop, even if we haven't finished it. Try adding `break` below your print statement of your favorite fruit above to see what happens."
   ]
  },
  {
   "cell_type": "code",
   "execution_count": null,
   "metadata": {},
   "outputs": [],
   "source": [
    "# Copy your loop from above and add break"
   ]
  },
  {
   "cell_type": "markdown",
   "metadata": {},
   "source": [
    "Let's try something a little different. I have a list of numbers (below) and I want divide each of these numbers by 2.5 and **append** them into a new list. Write a for loop to do this:"
   ]
  },
  {
   "cell_type": "markdown",
   "metadata": {},
   "source": [
    "**Hint:** it may be useful to start with an empty list before your loop. To make an empty list simply leave the inside of the brackets empty, like so:\n",
    "\n",
    "```python\n",
    "empty_list = []\n",
    "```"
   ]
  },
  {
   "cell_type": "code",
   "execution_count": null,
   "metadata": {},
   "outputs": [],
   "source": [
    "nums = [4.3, 28.7, 29, 416, 222, 9.16]\n",
    "\n",
    "# add your for loop here"
   ]
  },
  {
   "cell_type": "markdown",
   "metadata": {},
   "source": [
    "There is nothing wrong with using a `for` loop to do this, but there is a shorthand way to do the same thing, called a list comprehension. We won't go over them too deeply but it's useful to know they exist. \n",
    "\n",
    "They are basically shorthand for loops that automatically create lists. They run faster than for loops and are much quicker to type out:"
   ]
  },
  {
   "cell_type": "code",
   "execution_count": null,
   "metadata": {},
   "outputs": [],
   "source": [
    "nums = [4.3, 28.7, 29, 416, 222, 9.16]\n",
    "\n",
    "divided = [num / 2.5 for num in nums]\n",
    "\n",
    "print(divided)"
   ]
  },
  {
   "cell_type": "markdown",
   "metadata": {},
   "source": [
    "#### While loops\n",
    "\n",
    "The second type of loop in Python is the `while` loop. This executes the same block of code `while` a condition is `True`. As soon as that condition becomes `False`, it stops. For example:"
   ]
  },
  {
   "cell_type": "code",
   "execution_count": null,
   "metadata": {},
   "outputs": [],
   "source": [
    "number = 0 \n",
    "\n",
    "while number < 10:\n",
    "    print(number, 'is less than 10')\n",
    "    \n",
    "    number += 1"
   ]
  },
  {
   "cell_type": "markdown",
   "metadata": {},
   "source": [
    "**Note:** See the line that says `number += 1`? \n",
    "\n",
    "This is the same as doing:\n",
    " `number = number + 1`. \n",
    "\n",
    "This also works with other operators like `-=`, `*=`, `/=`, etc."
   ]
  },
  {
   "cell_type": "markdown",
   "metadata": {},
   "source": [
    "You should be careful with this type of loop. What do you think would happen if we didn't include `number += 1`?\n",
    "\n",
    "As a follow up, what do you think `while True` would do?"
   ]
  },
  {
   "cell_type": "markdown",
   "metadata": {},
   "source": [
    "### Exercises Part 2\n",
    "\n",
    "You are running a laboratory supply store. You have these items and their respective quantitities:\n",
    "\n",
    "- lab coats: 50\n",
    "- goggles: 24\n",
    "- fancy lab markers: 0 (these are very popular!)\n",
    "- gloves: 170\n",
    "- TAE buffer: 4"
   ]
  },
  {
   "cell_type": "markdown",
   "metadata": {},
   "source": [
    "**Part 1:** How would you store this data in Python?"
   ]
  },
  {
   "cell_type": "code",
   "execution_count": null,
   "metadata": {},
   "outputs": [],
   "source": [
    "# Store this data in a variable below"
   ]
  },
  {
   "cell_type": "markdown",
   "metadata": {},
   "source": [
    "**Part 2:** Now let's say we have an order that came in from a customer. To keep things simple, we run a very inefficient store where customers can only order one quantity of each item at a time. \n",
    "\n",
    "A customer wants to order one of each of these items:\n",
    "- gloves\n",
    "- markers\n",
    "- lab coats\n",
    "\n",
    "Store this order in a variable in Python below.\n",
    "\n",
    "**Hint:** Make sure the names match those in Part 1."
   ]
  },
  {
   "cell_type": "code",
   "execution_count": null,
   "metadata": {},
   "outputs": [],
   "source": [
    "# Store the order below:"
   ]
  },
  {
   "cell_type": "markdown",
   "metadata": {},
   "source": [
    "**Part 3:** Now, we want to go through each item in the customer's order and update our inventory to subtract 1 from the quantity. "
   ]
  },
  {
   "cell_type": "code",
   "execution_count": null,
   "metadata": {},
   "outputs": [],
   "source": [
    "# Place your code here:\n"
   ]
  },
  {
   "cell_type": "markdown",
   "metadata": {},
   "source": [
    "**Part 4:** If you've noticed we did forget one crucial part. We allowed the customer to order something that we don't currently have in stock. Adjust your code so that if a customer tries ordering something we are out of stock of, we print something about it being out of stock to the console."
   ]
  },
  {
   "cell_type": "code",
   "execution_count": null,
   "metadata": {},
   "outputs": [],
   "source": [
    "# Place your code here:\n"
   ]
  },
  {
   "cell_type": "markdown",
   "metadata": {},
   "source": [
    "Amazing! That's all for this in-class exercise, but if you want an extra challenge to try on your own, think of a way where we can have customers order more than one item at a time.\n",
    "\n",
    "**Hint:** Two useful functions with dictionaries are `.keys()` and `.values()`. These will generate lists of the keys and values in a dictionary, respectively. "
   ]
  },
  {
   "cell_type": "code",
   "execution_count": null,
   "metadata": {},
   "outputs": [],
   "source": [
    "# Challenge code here"
   ]
  }
 ],
 "metadata": {
  "colab": {
   "include_colab_link": true,
   "name": "Lesson 2.ipynb",
   "provenance": [],
   "version": "0.3.2"
  },
  "kernelspec": {
   "display_name": "Python 3",
   "language": "python",
   "name": "python3"
  },
  "language_info": {
   "codemirror_mode": {
    "name": "ipython",
    "version": 3
   },
   "file_extension": ".py",
   "mimetype": "text/x-python",
   "name": "python",
   "nbconvert_exporter": "python",
   "pygments_lexer": "ipython3",
   "version": "3.10.0"
  }
 },
 "nbformat": 4,
 "nbformat_minor": 4
}
