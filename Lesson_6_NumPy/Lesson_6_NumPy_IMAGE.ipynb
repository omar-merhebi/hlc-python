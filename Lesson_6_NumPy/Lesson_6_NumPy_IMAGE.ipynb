{
 "cells": [
  {
   "cell_type": "markdown",
   "metadata": {},
   "source": [
    "[![Open In Colab](https://colab.research.google.com/assets/colab-badge.svg)](https://colab.research.google.com/github/omar-merhebi/hlc-python/blob/master/Lesson_6_NumPy/Lesson_6_NumPy_IMAGE.ipynb)"
   ]
  },
  {
   "cell_type": "code",
   "execution_count": null,
   "metadata": {},
   "outputs": [],
   "source": [
    "%pip install numpy\n",
    "%pip install matplotlib\n",
    "\n",
    "import numpy as np\n",
    "import matplotlib.pyplot as plt"
   ]
  },
  {
   "cell_type": "code",
   "execution_count": null,
   "metadata": {},
   "outputs": [],
   "source": [
    "def plot_color_gradients(cmap_list, nrows=2, gradient_size=(6, 1)):\n",
    "    \"\"\"\n",
    "    Plots the gradients of given colormaps.\n",
    "\n",
    "    Parameters:\n",
    "    - cmap_list: List of colormap names.\n",
    "    - nrows: Number of rows in the plot.\n",
    "    - gradient_size: Tuple indicating the size of each gradient.\n",
    "    \"\"\"\n",
    "    ncols = (len(cmap_list) + nrows - 1) // nrows\n",
    "    fig, axs = plt.subplots(nrows=nrows, ncols=ncols, figsize=(gradient_size[0] * ncols, gradient_size[1] * nrows))\n",
    "    \n",
    "    # Generate a gradient array\n",
    "    gradient = np.linspace(0, 1, 256)\n",
    "    gradient = np.vstack((gradient, gradient))\n",
    "\n",
    "    # Plot each colormap\n",
    "    for ax, cmap_name in zip(axs.flat, cmap_list):\n",
    "        ax.imshow(gradient, aspect='auto', cmap=plt.get_cmap(cmap_name))\n",
    "        ax.set_axis_off()\n",
    "        ax.set_title(cmap_name, fontsize=10, fontweight='bold')\n",
    "    \n",
    "    # Hide any unused subplots\n",
    "    for ax in axs.flat[len(cmap_list):]:\n",
    "        ax.set_visible(False)\n",
    "    \n",
    "    plt.tight_layout()\n",
    "    plt.show()\n"
   ]
  },
  {
   "cell_type": "code",
   "execution_count": 2,
   "metadata": {},
   "outputs": [
    {
     "name": "stdout",
     "output_type": "stream",
     "text": [
      "--2024-07-24 10:56:36--  https://assets.newatlas.com/dims4/default/cfb2b86/2147483647/strip/true/crop/1350x900+125+0/resize/840x560!/quality/90/?url=http%3A%2F%2Fnewatlas-brightspot.s3.amazonaws.com%2Farchive%2Fconcorde-anniversary-20.jpg\n",
      "Resolving assets.newatlas.com (assets.newatlas.com)... 104.18.31.112, 104.18.30.112, 2606:4700::6812:1f70, ...\n",
      "Connecting to assets.newatlas.com (assets.newatlas.com)|104.18.31.112|:443... connected.\n",
      "HTTP request sent, awaiting response... 200 OK\n",
      "Length: 42711 (42K) [image/jpeg]\n",
      "Saving to: ‘concorde.png’\n",
      "\n",
      "concorde.png        100%[===================>]  41.71K  --.-KB/s    in 0s      \n",
      "\n",
      "2024-07-24 10:56:37 (94.1 MB/s) - ‘concorde.png’ saved [42711/42711]\n",
      "\n"
     ]
    }
   ],
   "source": [
    "# Let's start by getting the image file\n",
    "!wget -O concorde.png https://assets.newatlas.com/dims4/default/cfb2b86/2147483647/strip/true/crop/1350x900+125+0/resize/840x560!/quality/90/?url=http%3A%2F%2Fnewatlas-brightspot.s3.amazonaws.com%2Farchive%2Fconcorde-anniversary-20.jpg"
   ]
  },
  {
   "cell_type": "markdown",
   "metadata": {},
   "source": [
    "### NumPy Array Examples"
   ]
  },
  {
   "cell_type": "code",
   "execution_count": null,
   "metadata": {},
   "outputs": [],
   "source": [
    "# 1D array"
   ]
  },
  {
   "cell_type": "code",
   "execution_count": null,
   "metadata": {},
   "outputs": [],
   "source": [
    "# 2D array"
   ]
  },
  {
   "cell_type": "code",
   "execution_count": null,
   "metadata": {},
   "outputs": [],
   "source": []
  },
  {
   "cell_type": "code",
   "execution_count": null,
   "metadata": {},
   "outputs": [],
   "source": [
    "import matplotlib.image as img"
   ]
  },
  {
   "cell_type": "code",
   "execution_count": null,
   "metadata": {},
   "outputs": [],
   "source": [
    "# Print shape"
   ]
  },
  {
   "cell_type": "code",
   "execution_count": null,
   "metadata": {},
   "outputs": [],
   "source": [
    "# Get Red channel (channel = 0)\n",
    "\n",
    "\n",
    " # Can also show in non-default palette. "
   ]
  },
  {
   "cell_type": "code",
   "execution_count": null,
   "metadata": {},
   "outputs": [],
   "source": [
    "cmaps = ['viridis', 'plasma', 'Reds', 'Blues', 'Greens', 'Greys']\n",
    "\n",
    "plot_color_gradients(cmaps)"
   ]
  },
  {
   "cell_type": "code",
   "execution_count": null,
   "metadata": {},
   "outputs": [],
   "source": [
    "# Now how do I get the green and blue channels?\n",
    "# Hint: Green is the 2nd channel, blue is the 3rd. \n"
   ]
  },
  {
   "cell_type": "code",
   "execution_count": null,
   "metadata": {},
   "outputs": [],
   "source": [
    "figs, axs = plt.subplots(2, 2, figsize=(10, 8))\n",
    "\n",
    "axs[0, 0].imshow(red, cmap='Reds')\n",
    "axs[0, 0].set_title('Red')\n",
    "axs[0, 0].axis('off')\n",
    "axs[0, 1].imshow(green, cmap='Greens')\n",
    "axs[0, 1].set_title('Green')\n",
    "axs[0, 1].axis('off')\n",
    "axs[1, 0].imshow(blue, cmap='Blues')\n",
    "axs[1, 0].set_title('Blue')\n",
    "axs[1, 0].axis('off')\n",
    "axs[1, 1].imshow(image)\n",
    "axs[1, 1].set_title('RGB Image')\n",
    "\n",
    "plt.show()"
   ]
  },
  {
   "cell_type": "markdown",
   "metadata": {},
   "source": [
    "We can get some stats for each of these channels:"
   ]
  },
  {
   "cell_type": "code",
   "execution_count": null,
   "metadata": {},
   "outputs": [],
   "source": [
    "# The max value of the blue channel:\n",
    "\n",
    "# Get minimum value\n",
    "\n",
    "# Get mean/median\n",
    "\n",
    "# Sum all the channel values together"
   ]
  },
  {
   "cell_type": "markdown",
   "metadata": {},
   "source": [
    "We can also generate arrays of random noise:"
   ]
  },
  {
   "cell_type": "code",
   "execution_count": null,
   "metadata": {},
   "outputs": [],
   "source": [
    "# Create an random float array of size=10,000\n",
    "\n",
    "# What is the shape?\n",
    "\n"
   ]
  },
  {
   "cell_type": "code",
   "execution_count": null,
   "metadata": {},
   "outputs": [],
   "source": [
    "# We can resize this to any shape we want!\n",
    "\n",
    "# Plot the resized array\n"
   ]
  },
  {
   "cell_type": "code",
   "execution_count": null,
   "metadata": {},
   "outputs": [],
   "source": [
    "np.random.seed(416)\n",
    "\n",
    "# Create a random integer array of size (100, 100, 3)\n"
   ]
  },
  {
   "cell_type": "code",
   "execution_count": null,
   "metadata": {},
   "outputs": [],
   "source": [
    "# Demonstrate random seed\n",
    "\n",
    "\n",
    "# Create a random integer array of size (100, 100, 3)\n"
   ]
  },
  {
   "cell_type": "code",
   "execution_count": null,
   "metadata": {},
   "outputs": [],
   "source": [
    "# Indexing (add np.nan)\n"
   ]
  },
  {
   "cell_type": "code",
   "execution_count": null,
   "metadata": {},
   "outputs": [],
   "source": [
    "# Can you find where red is zero?\n",
    "\n",
    "\n",
    "# We can replace all of these with 1 (max value)\n"
   ]
  },
  {
   "cell_type": "code",
   "execution_count": null,
   "metadata": {},
   "outputs": [],
   "source": [
    "# Another way to do the above:\n",
    "# Fancy indexing"
   ]
  },
  {
   "cell_type": "code",
   "execution_count": null,
   "metadata": {},
   "outputs": [],
   "source": [
    "array_2d = np.array([[0, 1, 0],\n",
    "                    [0, 0, 0],\n",
    "                    [0, 1, 1]])\n",
    "\n",
    "# Use np.all()\n",
    "\n",
    "# Use np.any()"
   ]
  },
  {
   "cell_type": "code",
   "execution_count": null,
   "metadata": {},
   "outputs": [],
   "source": [
    "# Challenge: turn pixels where all channels > 0.8 (white pixels) to black (0)\n"
   ]
  },
  {
   "cell_type": "code",
   "execution_count": null,
   "metadata": {},
   "outputs": [],
   "source": [
    "# In class exercise?"
   ]
  }
 ],
 "metadata": {
  "kernelspec": {
   "display_name": "Python 3",
   "language": "python",
   "name": "python3"
  },
  "language_info": {
   "codemirror_mode": {
    "name": "ipython",
    "version": 3
   },
   "file_extension": ".py",
   "mimetype": "text/x-python",
   "name": "python",
   "nbconvert_exporter": "python",
   "pygments_lexer": "ipython3",
   "version": "3.10.0"
  }
 },
 "nbformat": 4,
 "nbformat_minor": 2
}
