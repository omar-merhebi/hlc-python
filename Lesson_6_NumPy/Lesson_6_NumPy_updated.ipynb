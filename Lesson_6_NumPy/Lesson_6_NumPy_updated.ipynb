{
 "cells": [
  {
   "cell_type": "markdown",
   "metadata": {},
   "source": [
    "[![Open In Colab](https://colab.research.google.com/assets/colab-badge.svg)](https://colab.research.google.com/github/omar-merhebi/hlc-python/blob/master/Lesson_6_NumPy/Lesson_6_NumPy_updated.ipynb)"
   ]
  },
  {
   "cell_type": "markdown",
   "metadata": {},
   "source": [
    "# NumPy\n",
    "\n",
    "The python package **NumPy** is an indespensible tool for efficient data manipulation and numerical processing. \n",
    "It is a highly curated and tested collection of functions centered around the manipulation of thier proprietary data type, the `numpy.array`. \n",
    "The `numpy.array` is similar to the standard `list` type, but it has some important differences that make it particularly useful for generic vector and matrix algebra and element-wise data manipulation.\n",
    "\n",
    "## Learning objectives \n",
    "* What is scientific computing?\n",
    "* What is NumPy?\n",
    "* What are the benefits of NumPy?\n",
    "* What is a `numpy.array`, and why use it?\n",
    "* Where is the NumPy documentation located? Right [here](https://numpy.org/doc/stable/reference/index.html)!\n",
    "\n",
    "## What's the deal with NumPy?\n",
    "\n",
    "[**NumPy**](https://numpy.org/) is the foundational Python package for scientific computing.\n",
    "Scientific computing encompasses any tools, functions, or algorithms that are used to generate or simulate mathematical models and problems. \n",
    "Python in its base form is fine for some data manipulation with support for generic algorithm construction (e.g. loops and function declaration), but as soon as you need to do any mathematics, especially on a large scale (e.g. large data sets), generic Python falls short with respect to efficient built-in functionality.\n",
    "NumPy is a heavily curated and tested package that contains thousands, if not hundreds of thousands, of useful functions for generic mathematical manipulation of your data.\n",
    "This includes general mathematics, like find the natural logarithm, as well as general statistics, like the variance and quanitles.\n",
    "These included functions are also very effienct with respect to compuational time and memory, so they should be used whenever possible.\n",
    "\n",
    "So what makes NumPy so efficient? \n",
    "Part of the efficiency comes from the the fact that the algorithms used behind the scenes are tuned to be as efficient as possible by dedicated computer scientists.\n",
    "Another reason that the code is efficient is that large chunks of the code are written in *C* and *C++* rather than in Python.\n",
    "A pre-compiled *C* or *C++* function is called by NumPy to execute your code, and the results are passed back to you in Python. \n",
    "It is not necessarily important to understand why this is more efficient, but it is important to point out that it is done in this manner because it is more efficient than strictly using Python.\n",
    "They are playing 4-dimensional chess while you are playing checkers, metaphorically, so there is no use in reinvinteing the wheel with respect to creating homemade functions.\n",
    "\n",
    "A final reason that NumPy is so efficient is the introduction of the `numpy.array`.\n",
    "The `numpy.array` is a generic n-dimensional array object.\n",
    "The easiest way to think about it is that a `numpy.array` is an n-dimensional matrix which can be used to store and manipulate your data or just do simple matrix and vector algebra.\n",
    "The reason this object is more efficient than the standard Python `list` is how the memory is stored in each case.\n",
    "In a standard `list` all of the members are stored in random spots in memory, so when they need to be accessed, the computer has to search around for them.\n",
    "In a `numpy.array` all of the data points are stored in sequential memory.\n",
    "This means that if you are at a point in your array, `my_array[a][b][c]`, and want to access the adjacent piece of data, `my_array[a][b][c+1]`, the computer can just accesses the adjacent memory address instead of searching through all of the memory for the correct piece of data.\n",
    "In the previous example `my_array` designates a 3-dimensional array as seen by the three different indexes following the `my_array` call.\n",
    "Most functions in Numpy are built around manipulating these objects, and are coded in such a way as to take advantage of the memory allocation in an optimal way, and are therefore very efficient.\n",
    "\n",
    "In order to demonstrate the power of NumPy, we can start with the standard dot product. In the code block below we generate two vectors of length 1000 and store them in `numpy.array` objects and `list` objects. We create a generic function, `my_dot_0`, that takes the dot product of two input vectors using a standard for loop. We then time the output.  "
   ]
  },
  {
   "cell_type": "code",
   "outputs": [
    {
     "name": "stdout",
     "output_type": "stream",
     "text": [
      "Requirement already satisfied: numpy in /Users/gracekenney/opt/miniconda3/lib/python3.9/site-packages (1.23.4)\r\n",
      "Note: you may need to restart the kernel to use updated packages.\n",
      "Requirement already satisfied: matplotlib in /Users/gracekenney/opt/miniconda3/lib/python3.9/site-packages (3.6.0)\r\n",
      "Requirement already satisfied: pillow>=6.2.0 in /Users/gracekenney/opt/miniconda3/lib/python3.9/site-packages (from matplotlib) (9.1.0)\r\n",
      "Requirement already satisfied: numpy>=1.19 in /Users/gracekenney/opt/miniconda3/lib/python3.9/site-packages (from matplotlib) (1.23.4)\r\n",
      "Requirement already satisfied: kiwisolver>=1.0.1 in /Users/gracekenney/opt/miniconda3/lib/python3.9/site-packages (from matplotlib) (1.4.4)\r\n",
      "Requirement already satisfied: pyparsing>=2.2.1 in /Users/gracekenney/opt/miniconda3/lib/python3.9/site-packages (from matplotlib) (3.0.9)\r\n",
      "Requirement already satisfied: fonttools>=4.22.0 in /Users/gracekenney/opt/miniconda3/lib/python3.9/site-packages (from matplotlib) (4.38.0)\r\n",
      "Requirement already satisfied: python-dateutil>=2.7 in /Users/gracekenney/opt/miniconda3/lib/python3.9/site-packages (from matplotlib) (2.8.2)\r\n",
      "Requirement already satisfied: cycler>=0.10 in /Users/gracekenney/opt/miniconda3/lib/python3.9/site-packages (from matplotlib) (0.11.0)\r\n",
      "Requirement already satisfied: packaging>=20.0 in /Users/gracekenney/opt/miniconda3/lib/python3.9/site-packages (from matplotlib) (21.3)\r\n",
      "Requirement already satisfied: contourpy>=1.0.1 in /Users/gracekenney/opt/miniconda3/lib/python3.9/site-packages (from matplotlib) (1.0.5)\r\n",
      "Requirement already satisfied: numpy>=1.19 in /Users/gracekenney/opt/miniconda3/lib/python3.9/site-packages (from matplotlib) (1.23.4)\r\n",
      "Requirement already satisfied: pyparsing>=2.2.1 in /Users/gracekenney/opt/miniconda3/lib/python3.9/site-packages (from matplotlib) (3.0.9)\r\n",
      "Requirement already satisfied: six>=1.5 in /Users/gracekenney/opt/miniconda3/lib/python3.9/site-packages (from python-dateutil>=2.7->matplotlib) (1.15.0)\r\n",
      "Note: you may need to restart the kernel to use updated packages.\n"
     ]
    }
   ],
   "source": [
    "%pip install numpy\n",
    "%pip install matplotlib"
   ],
   "metadata": {
    "collapsed": false,
    "ExecuteTime": {
     "end_time": "2024-07-24T02:32:17.839688Z",
     "start_time": "2024-07-24T02:32:14.851522Z"
    }
   },
   "execution_count": 2
  },
  {
   "cell_type": "code",
   "outputs": [],
   "source": [
    "# np is the standard abbreviation for numpy\n",
    "import numpy as np \n",
    "import matplotlib.pyplot as plt"
   ],
   "metadata": {
    "collapsed": false,
    "ExecuteTime": {
     "end_time": "2024-07-24T02:32:18.242528Z",
     "start_time": "2024-07-24T02:32:17.839743Z"
    }
   },
   "execution_count": 3
  },
  {
   "cell_type": "markdown",
   "source": [
    "# Numpy Arrays\n",
    "### Why Arrays?\n",
    "\n",
    "**Reason 1:** It makes math simpler when you have many data points.\n",
    "Let's create a list containing the numbers 0 through 5 and assign it to a variable:"
   ],
   "metadata": {
    "collapsed": false
   }
  },
  {
   "cell_type": "code",
   "outputs": [],
   "source": [
    "# Create a list containing the numbers 0 through 4 called small_list\n",
    "# assign it to a variable named data\n",
    "small_list = [0, 1, 2, 3, 4]"
   ],
   "metadata": {
    "collapsed": false,
    "ExecuteTime": {
     "end_time": "2024-07-24T02:32:18.248062Z",
     "start_time": "2024-07-24T02:32:18.244256Z"
    }
   },
   "execution_count": 4
  },
  {
   "cell_type": "markdown",
   "source": [
    "Now, let's try doing some simple math on this list. Let's add 1 to each of the items in the list. Is there a simple way to do this?"
   ],
   "metadata": {
    "collapsed": false
   }
  },
  {
   "cell_type": "code",
   "outputs": [
    {
     "ename": "TypeError",
     "evalue": "can only concatenate list (not \"int\") to list",
     "output_type": "error",
     "traceback": [
      "\u001B[0;31m---------------------------------------------------------------------------\u001B[0m",
      "\u001B[0;31mTypeError\u001B[0m                                 Traceback (most recent call last)",
      "Cell \u001B[0;32mIn[5], line 1\u001B[0m\n\u001B[0;32m----> 1\u001B[0m \u001B[43msmall_list\u001B[49m\u001B[43m \u001B[49m\u001B[38;5;241;43m+\u001B[39;49m\u001B[43m \u001B[49m\u001B[38;5;241;43m1\u001B[39;49m\n",
      "\u001B[0;31mTypeError\u001B[0m: can only concatenate list (not \"int\") to list"
     ]
    }
   ],
   "source": [
    "small_list + 1"
   ],
   "metadata": {
    "collapsed": false,
    "ExecuteTime": {
     "end_time": "2024-07-24T02:32:18.287998Z",
     "start_time": "2024-07-24T02:32:18.254740Z"
    }
   },
   "execution_count": 5
  },
  {
   "cell_type": "code",
   "outputs": [
    {
     "name": "stdout",
     "output_type": "stream",
     "text": [
      "[1, 2, 3, 4, 5]\n"
     ]
    }
   ],
   "source": [
    "for i in small_list:\n",
    "    small_list[i] += 1\n",
    "print(small_list)"
   ],
   "metadata": {
    "collapsed": false,
    "ExecuteTime": {
     "end_time": "2024-07-24T02:32:24.177144Z",
     "start_time": "2024-07-24T02:32:24.152847Z"
    }
   },
   "execution_count": 6
  },
  {
   "cell_type": "markdown",
   "source": [
    "Now let's try to do the same operation with a numpy array. "
   ],
   "metadata": {
    "collapsed": false
   }
  },
  {
   "cell_type": "code",
   "outputs": [
    {
     "data": {
      "text/plain": "array([0, 1, 2, 3, 4])"
     },
     "execution_count": 7,
     "metadata": {},
     "output_type": "execute_result"
    }
   ],
   "source": [
    "# First, let's reset our data variable to it's original values\n",
    "small_list = [0, 1, 2, 3, 4]\n",
    "# Now, we'll convert our list of values to a numpy array, called arr\n",
    "arr = np.array(small_list)\n",
    "\n",
    "# Let's see what the array looks like\n",
    "arr"
   ],
   "metadata": {
    "collapsed": false,
    "ExecuteTime": {
     "end_time": "2024-07-24T02:32:26.471808Z",
     "start_time": "2024-07-24T02:32:26.451754Z"
    }
   },
   "execution_count": 7
  },
  {
   "cell_type": "code",
   "outputs": [
    {
     "data": {
      "text/plain": "numpy.ndarray"
     },
     "execution_count": 8,
     "metadata": {},
     "output_type": "execute_result"
    }
   ],
   "source": [
    "# Check the data type of your new array\n",
    "type(arr)"
   ],
   "metadata": {
    "collapsed": false,
    "ExecuteTime": {
     "end_time": "2024-07-24T02:32:30.071051Z",
     "start_time": "2024-07-24T02:32:30.044755Z"
    }
   },
   "execution_count": 8
  },
  {
   "cell_type": "markdown",
   "source": [
    "Now, try adding 1 to every element of our array."
   ],
   "metadata": {
    "collapsed": false
   }
  },
  {
   "cell_type": "code",
   "outputs": [
    {
     "data": {
      "text/plain": "array([1, 2, 3, 4, 5])"
     },
     "execution_count": 9,
     "metadata": {},
     "output_type": "execute_result"
    }
   ],
   "source": [
    "arr + 1"
   ],
   "metadata": {
    "collapsed": false,
    "ExecuteTime": {
     "end_time": "2024-07-24T02:32:31.911685Z",
     "start_time": "2024-07-24T02:32:31.903663Z"
    }
   },
   "execution_count": 9
  },
  {
   "cell_type": "markdown",
   "source": [
    "We can also perform mathematical operations between two numpy arrays. For example, we can add our array `arr` to itself or multiply it by itself:\n"
   ],
   "metadata": {
    "collapsed": false
   }
  },
  {
   "cell_type": "code",
   "outputs": [
    {
     "data": {
      "text/plain": "array([0, 2, 4, 6, 8])"
     },
     "execution_count": 10,
     "metadata": {},
     "output_type": "execute_result"
    }
   ],
   "source": [
    "# Add arr to itself\n",
    "arr + arr"
   ],
   "metadata": {
    "collapsed": false,
    "ExecuteTime": {
     "end_time": "2024-07-24T02:32:34.194978Z",
     "start_time": "2024-07-24T02:32:34.168919Z"
    }
   },
   "execution_count": 10
  },
  {
   "cell_type": "code",
   "outputs": [
    {
     "data": {
      "text/plain": "array([ 0,  1,  4,  9, 16])"
     },
     "execution_count": 11,
     "metadata": {},
     "output_type": "execute_result"
    }
   ],
   "source": [
    "# Multiply arr by itself\n",
    "arr * arr"
   ],
   "metadata": {
    "collapsed": false,
    "ExecuteTime": {
     "end_time": "2024-07-24T02:32:36.476950Z",
     "start_time": "2024-07-24T02:32:36.459331Z"
    }
   },
   "execution_count": 11
  },
  {
   "cell_type": "markdown",
   "source": [
    "Working with numpy arrays can also be much faster than working with lists.\n",
    "Let's calculate how long it takes to get the sum of numbers in a list."
   ],
   "metadata": {
    "collapsed": false
   }
  },
  {
   "cell_type": "code",
   "outputs": [
    {
     "name": "stdout",
     "output_type": "stream",
     "text": [
      "51.3 ms ± 3.43 ms per loop (mean ± std. dev. of 7 runs, 10 loops each)\n"
     ]
    }
   ],
   "source": [
    "# Make a list of numbers 0 to 10,000,000 - store in variable big_list\n",
    "big_list = list(range(0,10000001))\n",
    "\n",
    "# Print time to sum\n",
    "%timeit -n 10 tmp = sum(big_list)"
   ],
   "metadata": {
    "collapsed": false,
    "ExecuteTime": {
     "end_time": "2024-07-24T02:32:42.332096Z",
     "start_time": "2024-07-24T02:32:39.230770Z"
    }
   },
   "execution_count": 12
  },
  {
   "cell_type": "markdown",
   "source": [
    "Now, let's see how long the same operation takes using the `np.sum` function with a numpy array. \n",
    "We could convert the `big_list` we've already made to a numpy array but, assuming we don't already have a list of numbers, let's make an array with the same values using numpy's `np.arange` function.\n",
    "`np.arange` makes a list of consecutive numbers given starting and stopping numbers and a step size."
   ],
   "metadata": {
    "collapsed": false
   }
  },
  {
   "cell_type": "code",
   "outputs": [
    {
     "name": "stdout",
     "output_type": "stream",
     "text": [
      "1.88 ms ± 587 µs per loop (mean ± std. dev. of 7 runs, 10 loops each)\n"
     ]
    }
   ],
   "source": [
    "# Make a numpy array of numbers 0 to 10,000,000 - store in variable big_array\n",
    "big_array = np.arange(start = 0, stop = 10000000, step = 1)\n",
    "\n",
    "# Print time to sum\n",
    "%timeit -n 10 tmp = np.sum(big_array)"
   ],
   "metadata": {
    "collapsed": false,
    "ExecuteTime": {
     "end_time": "2024-07-24T02:32:46.283200Z",
     "start_time": "2024-07-24T02:32:46.115973Z"
    }
   },
   "execution_count": 13
  },
  {
   "cell_type": "markdown",
   "source": [
    "Numpy functions can improve the efficiency of our code when working with numpy arrays. But what happens if we try to use numpy functions on lists? Let's use the `np.sum` function on our big_list."
   ],
   "metadata": {
    "collapsed": false
   }
  },
  {
   "cell_type": "code",
   "outputs": [
    {
     "name": "stdout",
     "output_type": "stream",
     "text": [
      "503 ms ± 44.8 ms per loop (mean ± std. dev. of 7 runs, 10 loops each)\n"
     ]
    }
   ],
   "source": [
    "# Print time to sum\n",
    "%timeit -n 10 tmp = np.sum(big_list)"
   ],
   "metadata": {
    "collapsed": false,
    "ExecuteTime": {
     "end_time": "2024-07-24T02:33:22.862244Z",
     "start_time": "2024-07-24T02:32:48.589061Z"
    }
   },
   "execution_count": 14
  },
  {
   "cell_type": "markdown",
   "source": [
    "Notice that the `list` test really struggles, comparitively. \n",
    "\n",
    "Together, these examples should highlight:\n",
    "1. NumPy functions are very efficient.\n",
    "2. NumPy functions are relatively easy to use and clean up your code.\n",
    "3. NumPy functions work best with `numpy.array` objects.\n",
    "4. If you can find a NumPy function to handle your `numpy.array` objects, you should use it rather than trying to build your own function."
   ],
   "metadata": {
    "collapsed": false
   }
  },
  {
   "cell_type": "markdown",
   "source": [
    "Numpy `arrays` operate very similarly to python `lists`, **we can grab individual items using the same syntax:**"
   ],
   "metadata": {
    "collapsed": false
   }
  },
  {
   "cell_type": "code",
   "outputs": [
    {
     "data": {
      "text/plain": "1"
     },
     "execution_count": 15,
     "metadata": {},
     "output_type": "execute_result"
    }
   ],
   "source": [
    "# Access the second element of the numpy array\n",
    "arr[1]"
   ],
   "metadata": {
    "collapsed": false,
    "ExecuteTime": {
     "end_time": "2024-07-24T02:33:22.872846Z",
     "start_time": "2024-07-24T02:33:22.865956Z"
    }
   },
   "execution_count": 15
  },
  {
   "cell_type": "code",
   "outputs": [
    {
     "data": {
      "text/plain": "array([0, 1, 2])"
     },
     "execution_count": 16,
     "metadata": {},
     "output_type": "execute_result"
    }
   ],
   "source": [
    "# Access the first three elements in the numpy array\n",
    "arr[0:3]"
   ],
   "metadata": {
    "collapsed": false,
    "ExecuteTime": {
     "end_time": "2024-07-24T02:33:22.885456Z",
     "start_time": "2024-07-24T02:33:22.872055Z"
    }
   },
   "execution_count": 16
  },
  {
   "cell_type": "markdown",
   "source": [
    "In addition to `np.arange`, numpy has some other helpful functions to make long lists without having to type out all the numbers individually.\n",
    "* `np.arange` Return evenly spaced values within a given interval.\n",
    "* `np.linespace` Return evenly spaced numbers over a specified interval.\n",
    "* `np.zeros` Return a new array of given shape and type, filled with zeros.\n",
    "* `np.random.randn` Return a samples from the “standard normal” distribution."
   ],
   "metadata": {
    "collapsed": false
   }
  },
  {
   "cell_type": "code",
   "outputs": [
    {
     "data": {
      "text/plain": "array([0, 2, 4, 6, 8])"
     },
     "execution_count": 17,
     "metadata": {},
     "output_type": "execute_result"
    }
   ],
   "source": [
    "# Get numbers starting at 0 and ending at 10 by 2s\n",
    "np.arange(start = 0, stop = 10, step = 2)"
   ],
   "metadata": {
    "collapsed": false,
    "ExecuteTime": {
     "end_time": "2024-07-24T02:33:27.107302Z",
     "start_time": "2024-07-24T02:33:27.104213Z"
    }
   },
   "execution_count": 17
  },
  {
   "cell_type": "code",
   "outputs": [
    {
     "data": {
      "text/plain": "array([ 0. ,  2.5,  5. ,  7.5, 10. ])"
     },
     "execution_count": 18,
     "metadata": {},
     "output_type": "execute_result"
    }
   ],
   "source": [
    "# Get 5 numbers between 0 and 10\n",
    "np.linspace(start = 0 , stop = 10, num=5)"
   ],
   "metadata": {
    "collapsed": false,
    "ExecuteTime": {
     "end_time": "2024-07-24T02:33:28.457669Z",
     "start_time": "2024-07-24T02:33:28.444006Z"
    }
   },
   "execution_count": 18
  },
  {
   "cell_type": "code",
   "outputs": [
    {
     "data": {
      "text/plain": "array([0., 0., 0., 0., 0., 0., 0., 0., 0., 0.])"
     },
     "execution_count": 19,
     "metadata": {},
     "output_type": "execute_result"
    }
   ],
   "source": [
    "# Get an array of 10 zeros\n",
    "np.zeros(10)"
   ],
   "metadata": {
    "collapsed": false,
    "ExecuteTime": {
     "end_time": "2024-07-24T02:33:31.154091Z",
     "start_time": "2024-07-24T02:33:31.131357Z"
    }
   },
   "execution_count": 19
  },
  {
   "cell_type": "code",
   "outputs": [
    {
     "data": {
      "text/plain": "array([-3.53397748e-01,  1.53072127e-02,  1.37307951e-01, -4.94157630e-01,\n        1.20134644e+00, -1.38603797e+00,  5.31743438e-01,  8.19867608e-01,\n        1.34273015e-03, -1.56128552e+00])"
     },
     "execution_count": 20,
     "metadata": {},
     "output_type": "execute_result"
    }
   ],
   "source": [
    "# Get an array of 10 numbers sampled from the normal distribution\n",
    "np.random.randn(10)"
   ],
   "metadata": {
    "collapsed": false,
    "ExecuteTime": {
     "end_time": "2024-07-24T02:33:33.281725Z",
     "start_time": "2024-07-24T02:33:33.272852Z"
    }
   },
   "execution_count": 20
  },
  {
   "cell_type": "markdown",
   "source": [
    "### 2D Array"
   ],
   "metadata": {
    "collapsed": false
   }
  },
  {
   "cell_type": "code",
   "outputs": [
    {
     "name": "stdout",
     "output_type": "stream",
     "text": [
      "[[1 2 3]\n",
      " [4 5 6]]\n"
     ]
    }
   ],
   "source": [
    "arr_2d = np.array([[1, 2, 3], [4, 5, 6]])\n",
    "print(arr_2d)"
   ],
   "metadata": {
    "collapsed": false,
    "ExecuteTime": {
     "end_time": "2024-07-24T02:33:35.957678Z",
     "start_time": "2024-07-24T02:33:35.937017Z"
    }
   },
   "execution_count": 21
  },
  {
   "cell_type": "markdown",
   "source": [
    "Note that when creating a 2D numpy array, the numbers provided in the lists must be able to fill all elements of a matrix of some dimensions N x M. Let's see what happens when we provide a list of lists that won't fill a matrix:"
   ],
   "metadata": {
    "collapsed": false
   }
  },
  {
   "cell_type": "code",
   "outputs": [
    {
     "name": "stdout",
     "output_type": "stream",
     "text": [
      "[list([1, 2, 3]) list([4, 5])]\n"
     ]
    },
    {
     "name": "stderr",
     "output_type": "stream",
     "text": [
      "/var/folders/38/6wqv63757bl5bj6hh0w_vrpm0000gn/T/ipykernel_36493/1975936186.py:1: VisibleDeprecationWarning: Creating an ndarray from ragged nested sequences (which is a list-or-tuple of lists-or-tuples-or ndarrays with different lengths or shapes) is deprecated. If you meant to do this, you must specify 'dtype=object' when creating the ndarray.\n",
      "  my_array = np.array([[1, 2, 3], [4, 5]])\n"
     ]
    }
   ],
   "source": [
    "my_array = np.array([[1, 2, 3], [4, 5]])\n",
    "print(my_array)"
   ],
   "metadata": {
    "collapsed": false,
    "ExecuteTime": {
     "end_time": "2024-07-24T02:33:37.736601Z",
     "start_time": "2024-07-24T02:33:37.727119Z"
    }
   },
   "execution_count": 22
  },
  {
   "cell_type": "markdown",
   "source": [
    "#### Subsetting a 2D Matrix\n",
    "We can also use square brackets (`[]`) to subset 2D arrays. First we specify the rows we want to subset, then the columns."
   ],
   "metadata": {
    "collapsed": false
   }
  },
  {
   "cell_type": "code",
   "outputs": [
    {
     "data": {
      "text/plain": "2"
     },
     "execution_count": 23,
     "metadata": {},
     "output_type": "execute_result"
    }
   ],
   "source": [
    "# Access the element in the first row and second column\n",
    "arr_2d[0, 1]"
   ],
   "metadata": {
    "collapsed": false,
    "ExecuteTime": {
     "end_time": "2024-07-24T02:33:41.957388Z",
     "start_time": "2024-07-24T02:33:41.944333Z"
    }
   },
   "execution_count": 23
  },
  {
   "cell_type": "code",
   "outputs": [
    {
     "data": {
      "text/plain": "array([1, 2, 3])"
     },
     "execution_count": 24,
     "metadata": {},
     "output_type": "execute_result"
    }
   ],
   "source": [
    "# Access all elements in the first row\n",
    "arr_2d[0, :]"
   ],
   "metadata": {
    "collapsed": false,
    "ExecuteTime": {
     "end_time": "2024-07-24T02:33:43.129574Z",
     "start_time": "2024-07-24T02:33:43.112783Z"
    }
   },
   "execution_count": 24
  },
  {
   "cell_type": "markdown",
   "source": [
    "We can use the `.shape` attribute to get the number of rows and columns in our array."
   ],
   "metadata": {
    "collapsed": false
   }
  },
  {
   "cell_type": "code",
   "outputs": [
    {
     "data": {
      "text/plain": "(2, 3)"
     },
     "execution_count": 25,
     "metadata": {},
     "output_type": "execute_result"
    }
   ],
   "source": [
    "# Get the shape of the 2D array\n",
    "arr_2d.shape"
   ],
   "metadata": {
    "collapsed": false,
    "ExecuteTime": {
     "end_time": "2024-07-24T02:33:45.287824Z",
     "start_time": "2024-07-24T02:33:45.278292Z"
    }
   },
   "execution_count": 25
  },
  {
   "cell_type": "markdown",
   "source": [
    "We can also make a 2D array from a 1D array using the `.reshape` function. For example, if we want to make a 10x10 matrix of consecutive numbers, we can first make an array of 100 numbers using `np.arange`, then use `.reshape` to format the matrix."
   ],
   "metadata": {
    "collapsed": false
   }
  },
  {
   "cell_type": "code",
   "outputs": [
    {
     "data": {
      "text/plain": "array([[ 0,  1,  2,  3,  4,  5,  6,  7,  8,  9],\n       [10, 11, 12, 13, 14, 15, 16, 17, 18, 19],\n       [20, 21, 22, 23, 24, 25, 26, 27, 28, 29],\n       [30, 31, 32, 33, 34, 35, 36, 37, 38, 39],\n       [40, 41, 42, 43, 44, 45, 46, 47, 48, 49],\n       [50, 51, 52, 53, 54, 55, 56, 57, 58, 59],\n       [60, 61, 62, 63, 64, 65, 66, 67, 68, 69],\n       [70, 71, 72, 73, 74, 75, 76, 77, 78, 79],\n       [80, 81, 82, 83, 84, 85, 86, 87, 88, 89],\n       [90, 91, 92, 93, 94, 95, 96, 97, 98, 99]])"
     },
     "execution_count": 26,
     "metadata": {},
     "output_type": "execute_result"
    }
   ],
   "source": [
    "numbers = np.arange(start = 0, stop = 100)\n",
    "numbers_2d = numbers.reshape(10, 10)\n",
    "numbers_2d"
   ],
   "metadata": {
    "collapsed": false,
    "ExecuteTime": {
     "end_time": "2024-07-24T02:33:46.985664Z",
     "start_time": "2024-07-24T02:33:46.960727Z"
    }
   },
   "execution_count": 26
  },
  {
   "cell_type": "markdown",
   "source": [
    "If we wanted to change the shape of our matrix, we could do this with the `resize` function. Note that this changes the attributes of the matrix we supply, so nothing is returned from this function."
   ],
   "metadata": {
    "collapsed": false
   }
  },
  {
   "cell_type": "code",
   "outputs": [
    {
     "data": {
      "text/plain": "array([[ 0,  1,  2,  3,  4],\n       [ 5,  6,  7,  8,  9],\n       [10, 11, 12, 13, 14],\n       [15, 16, 17, 18, 19],\n       [20, 21, 22, 23, 24],\n       [25, 26, 27, 28, 29],\n       [30, 31, 32, 33, 34],\n       [35, 36, 37, 38, 39],\n       [40, 41, 42, 43, 44],\n       [45, 46, 47, 48, 49],\n       [50, 51, 52, 53, 54],\n       [55, 56, 57, 58, 59],\n       [60, 61, 62, 63, 64],\n       [65, 66, 67, 68, 69],\n       [70, 71, 72, 73, 74],\n       [75, 76, 77, 78, 79],\n       [80, 81, 82, 83, 84],\n       [85, 86, 87, 88, 89],\n       [90, 91, 92, 93, 94],\n       [95, 96, 97, 98, 99]])"
     },
     "execution_count": 27,
     "metadata": {},
     "output_type": "execute_result"
    }
   ],
   "source": [
    "numbers.resize((20, 5))\n",
    "numbers"
   ],
   "metadata": {
    "collapsed": false,
    "ExecuteTime": {
     "end_time": "2024-07-24T02:33:49.163786Z",
     "start_time": "2024-07-24T02:33:49.149703Z"
    }
   },
   "execution_count": 27
  },
  {
   "cell_type": "markdown",
   "source": [
    "If we wanted to find the location of a specific value in our array, we can use the `np.where` function.\n",
    "* `np.where` generates a tuple of arrays that show the indices of where the trues are located. The tuple that np.where generates will always have the same dimension as the array queried"
   ],
   "metadata": {
    "collapsed": false
   }
  },
  {
   "cell_type": "code",
   "outputs": [
    {
     "data": {
      "text/plain": "(array([2]), array([0]))"
     },
     "execution_count": 28,
     "metadata": {},
     "output_type": "execute_result"
    }
   ],
   "source": [
    "# Find the location of the number 10 in out numbers array\n",
    "np.where(numbers == 10)"
   ],
   "metadata": {
    "collapsed": false,
    "ExecuteTime": {
     "end_time": "2024-07-24T02:33:51.791487Z",
     "start_time": "2024-07-24T02:33:51.781740Z"
    }
   },
   "execution_count": 28
  },
  {
   "cell_type": "markdown",
   "source": [],
   "metadata": {
    "collapsed": false
   }
  },
  {
   "cell_type": "markdown",
   "metadata": {},
   "source": [
    "## Matrix Manipulation\n",
    "At some point it might also be helpful to sort data within an array, find specific instances of things within an array, delete rows or columns, or add data. \n",
    "This can all be done using NumPy's built in functions as well. \n",
    "In the following example we will try to use NumPy to manipulate a data set in a way that would potentially be useful for your own data. \n",
    "We can also run some simple statistics for fun!"
   ]
  },
  {
   "cell_type": "code",
   "execution_count": 29,
   "metadata": {
    "ExecuteTime": {
     "end_time": "2024-07-24T02:33:54.141384Z",
     "start_time": "2024-07-24T02:33:54.124832Z"
    }
   },
   "outputs": [
    {
     "data": {
      "text/plain": "array([[-3.14855494e-01,  3.71367932e-01, -3.31407254e-01,\n         1.52467688e+00,  7.30943996e-01],\n       [ 6.67277897e-02,  6.47971920e-01, -1.88603713e+00,\n         1.12133017e+00,  1.50434881e+00],\n       [-1.68757298e-01, -1.99184057e-01, -4.71062034e-01,\n        -2.31285643e+00, -4.99892371e-01],\n       [-3.88371856e-01, -1.56449620e-01,  1.21757212e-01,\n        -1.41990300e+00,  6.94329415e-01],\n       [ 5.16146013e-01,  1.22625465e+00,  8.82429703e-01,\n        -1.31450642e-01,  3.92197673e-01],\n       [ 1.00102213e+00, -3.75739470e-02, -6.97909608e-01,\n         1.74618914e-01, -7.02232001e-01],\n       [-5.54800792e-01, -1.95844857e-01,  1.10100412e+00,\n         1.75362942e-01,  1.22027644e+00],\n       [-1.09024356e+00, -1.71249263e-01, -1.02401483e+00,\n        -7.13873614e-02, -1.42296626e+00],\n       [-3.35179627e-01,  1.66456934e+00, -1.07475125e+00,\n        -1.12168157e+00, -1.44986101e+00],\n       [-8.41526429e-01,  7.81430471e-01, -2.50843171e-01,\n        -1.48265196e+00,  8.12449436e-01],\n       [ 1.12898439e-01,  1.50625086e-01,  6.65922805e-01,\n        -6.50525632e-01,  1.18672719e+00],\n       [-6.77465173e-01, -1.90837533e-02, -1.27518313e+00,\n        -2.09046856e-01,  7.35183858e-01],\n       [-5.88991582e-01,  7.93194574e-01,  3.01289739e-01,\n         1.02595113e+00,  4.97524073e-01],\n       [ 1.80343433e+00, -6.10682646e-01,  9.52747386e-01,\n        -1.99672189e+00, -6.14145101e-01],\n       [-4.56207057e-01,  8.06767689e-01,  4.39052077e-01,\n         4.02532643e-01,  1.61245839e-01],\n       [-2.64170228e-01,  1.03118618e+00, -5.47863934e-01,\n         1.52617375e-01,  1.42381195e+00],\n       [-7.53831006e-01, -1.45078548e+00, -6.86048143e-01,\n         9.68876238e-02, -5.07959288e-01],\n       [ 9.63144689e-01, -3.20813861e-01,  1.86653048e-01,\n        -8.24137073e-01, -1.84906750e+00],\n       [ 2.80846690e+00,  3.49094040e-01, -9.83178339e-02,\n        -1.34303449e+00, -5.09158565e-01],\n       [-2.91024483e-01, -7.52805222e-01,  1.01901152e+00,\n         7.02160033e-02, -3.76426134e-01],\n       [ 7.56007925e-01, -9.53280993e-01, -4.98923984e-01,\n         6.20049392e-01, -1.04136087e+00],\n       [ 1.69313484e+00, -4.91627564e-02, -1.18345830e+00,\n        -3.03183858e-01, -8.29622797e-01],\n       [ 1.44263227e-01,  6.13132125e-02, -1.25218294e+00,\n         8.07276678e-01,  2.09645129e+00],\n       [ 4.74461582e-01,  1.50385062e+00,  6.25957607e-01,\n         9.18388082e-01,  8.93777199e-01],\n       [ 1.61854392e-01, -3.49318555e-01,  1.02020835e+00,\n         8.15669217e-01, -1.83839759e+00],\n       [ 1.11290934e+00,  1.34719115e+00, -2.41747633e-01,\n        -1.05628031e-02, -1.24947104e+00],\n       [ 1.35328163e-01,  1.61168874e+00,  9.54782324e-02,\n         8.06767676e-01, -2.76130184e-01],\n       [ 2.79864727e-01, -3.24393156e-01,  1.69026904e-01,\n        -3.55083028e-02, -2.21480784e+00],\n       [-1.38861726e-01, -1.58376921e-01,  1.80634817e-01,\n         5.67976439e-01, -2.29954716e-01],\n       [-1.05523350e-03,  1.95967669e+00, -1.18665868e+00,\n         2.73722970e-01,  1.58952395e+00],\n       [ 1.32150129e+00, -1.04970261e+00,  1.61007258e+00,\n        -8.92806219e-01,  1.09543860e+00],\n       [-1.05747740e+00,  1.52589809e-02, -4.06422143e-01,\n         2.42919665e-01, -1.40278912e+00],\n       [-5.12534529e-01,  4.47079506e-01, -5.22153674e-01,\n        -1.23024072e+00, -2.77624368e-01],\n       [ 3.02950305e+00,  9.65433997e-01,  6.15538286e-02,\n        -9.03839116e-01, -1.06880537e+00],\n       [ 1.50971391e+00,  1.48558189e-01, -5.83846303e-01,\n        -4.54989916e-01, -2.48238383e-02],\n       [-5.12744626e-01,  2.02222754e-01,  1.71971703e+00,\n        -1.53693743e+00,  8.13772750e-01],\n       [ 1.09811603e-01,  1.17436614e+00, -1.09591254e+00,\n         1.05332823e+00,  8.08086205e-01],\n       [-1.23935515e-01,  2.01516522e-01,  1.60762971e+00,\n         1.44529639e-01,  1.26032068e+00],\n       [ 1.68225606e+00,  1.17934136e+00,  1.27924794e-01,\n         1.90526346e-01, -5.23557635e-01],\n       [-5.22868190e-01,  1.33390205e+00,  1.14438893e-01,\n        -8.89861203e-01,  2.66464341e-01],\n       [-1.14712925e+00,  3.21627712e-01,  1.15150009e+00,\n         2.95207799e-01, -3.74886765e-01],\n       [-9.24380261e-01, -7.58439498e-01, -6.33892663e-02,\n        -7.79360902e-02,  6.45816626e-01],\n       [-6.90163715e-01, -3.12410658e-01, -8.06178149e-02,\n        -1.62149661e+00, -1.05622123e+00],\n       [-5.65180682e-03, -1.68831447e+00,  2.03346706e-02,\n         6.60209482e-01,  5.98940413e-01],\n       [-1.37672876e+00, -2.10503230e-01, -8.28240997e-01,\n         4.16456750e-01, -3.95930076e-01],\n       [-2.13208862e+00, -1.36811780e+00,  1.39151265e+00,\n         7.61209811e-01,  3.84218749e-01],\n       [ 4.37430742e-01,  1.09512660e+00, -1.23228347e+00,\n        -6.23506201e-01,  6.86511451e-02],\n       [-1.96349613e+00,  1.31120066e+00,  1.45738361e+00,\n         7.50593074e-01,  9.62582830e-01],\n       [ 1.25728805e+00,  3.23665819e-01,  3.66304139e-01,\n         3.83062821e-01, -1.93882702e+00],\n       [ 5.07249903e-01,  9.31380430e-01,  3.97276570e-01,\n        -1.66098314e+00, -1.17847807e+00],\n       [ 4.79415105e-01,  7.30289215e-01, -5.30491631e-01,\n        -1.81860213e+00,  1.89199853e-01],\n       [-2.81169128e-01,  2.46419349e-01, -2.30288447e-01,\n        -1.30804452e+00,  5.90738032e-01],\n       [-1.55109243e+00, -5.70361267e-01,  1.13293263e+00,\n        -1.01808322e+00, -8.35919999e-01],\n       [ 1.65787788e-01, -1.25870577e-01,  8.97503318e-01,\n        -7.08216056e-01,  2.87019248e-01],\n       [-1.16986753e+00,  1.85195964e+00, -7.21357927e-02,\n         5.90034046e-01, -3.67717102e-02],\n       [ 5.33071341e-01, -4.10699485e-01, -7.99039911e-01,\n         1.73152805e+00,  2.01036224e+00],\n       [-8.89824150e-01,  4.18757524e-01, -9.38286240e-01,\n        -3.50880660e-01, -1.68183673e-01],\n       [-6.40706470e-02,  4.44378688e-01,  5.83651990e-01,\n         1.20556543e+00, -1.56039053e+00],\n       [ 1.02673397e+00, -4.98715557e-01,  1.25979441e+00,\n         5.14013506e-01,  6.79938673e-01],\n       [-1.36609869e+00, -1.82525927e-02, -7.28891790e-01,\n        -2.00902194e-01, -1.73682424e-01],\n       [ 3.97358756e-01, -5.46576603e-01,  5.52594818e-01,\n        -1.93082109e+00, -1.32318455e-01],\n       [-5.54884201e-01,  1.59198709e+00, -2.07732759e+00,\n        -7.81061011e-01,  1.50516526e+00],\n       [-4.50630843e-02, -2.21707095e-01,  3.61860697e-01,\n        -1.26315673e-01,  6.26358477e-01],\n       [-5.61759814e-01, -2.17597312e-01,  2.48892173e-01,\n         1.22293753e+00,  6.37808518e-01],\n       [ 1.68804158e-01,  3.34445949e-01,  1.50662099e+00,\n         2.63327455e-01,  1.05772852e+00],\n       [-1.03236783e+00, -1.90120909e+00,  9.78219845e-01,\n        -2.06025988e-01,  1.07658244e+00],\n       [-5.36829564e-01,  6.66295674e-01,  3.01111656e-01,\n        -7.86155671e-01, -3.25398967e-01],\n       [ 3.31672234e-02,  3.11267115e-02,  1.80956292e+00,\n         1.17828499e-01,  1.21909934e+00],\n       [-5.99941978e-01, -1.02958534e+00, -4.41495865e-01,\n        -3.67166531e-01,  4.73399639e-01],\n       [ 7.22436650e-01, -1.19652564e+00,  1.06692600e-01,\n         1.37553467e+00, -1.36274052e+00],\n       [-7.45543198e-01, -9.17850675e-01, -1.32734561e+00,\n        -5.36338173e-01,  7.05319567e-01],\n       [ 1.02715806e+00, -4.78888227e-01,  5.01404518e-02,\n        -2.11179236e+00, -1.58847358e-01],\n       [ 6.58723360e-01, -1.39870208e+00, -1.32993553e-01,\n         2.05885557e-01, -6.13274264e-01],\n       [-2.67816259e-01,  1.38495085e+00, -2.51255352e-01,\n         6.70039893e-02, -9.72439187e-01],\n       [ 4.68021767e-01, -5.65638058e-01,  4.63923889e-01,\n         4.58270887e-01, -2.66773472e-02],\n       [ 4.14065214e-01,  3.12465289e-01, -4.19279071e-01,\n         1.61820492e-01,  7.54567642e-01],\n       [-2.53054180e-01,  1.24507886e+00,  3.28432197e-02,\n         4.56124746e-02, -1.73837129e+00],\n       [-1.10713338e+00, -4.12881507e-01,  6.39670095e-02,\n        -8.35819850e-01, -1.79220656e-01],\n       [ 3.75645045e-01, -7.63995899e-01, -1.26685616e+00,\n        -1.32860611e+00,  1.35365010e+00],\n       [ 1.56043427e+00, -1.37135940e+00, -3.38801874e-01,\n        -3.03344331e-01, -1.15406815e+00],\n       [-4.76006545e-02, -5.27365984e-01, -5.12119905e-01,\n        -5.00656684e-02,  1.02970426e-01],\n       [ 4.03118487e-01, -4.88126474e-01,  1.00483306e+00,\n         4.03553475e-01,  2.64795512e-02],\n       [ 1.33577994e+00,  1.08366874e+00,  1.40846131e+00,\n        -1.96640226e+00,  2.23679410e+00],\n       [-1.13144078e+00, -1.50883292e+00,  5.09595133e-01,\n         2.17148461e-01,  8.18583538e-01],\n       [ 2.34155659e-01,  1.16940865e-01,  1.71359581e+00,\n        -5.40948130e-01, -1.14438600e-01],\n       [ 1.48777770e+00, -3.15348658e-01, -1.42084968e+00,\n        -1.65015866e-01,  5.32246408e-01],\n       [-3.43240245e-01, -9.56936213e-01,  5.42822680e-01,\n         1.53031025e-01, -6.81274110e-01],\n       [-7.98557181e-01, -8.89219163e-02,  1.06737081e+00,\n        -2.53401456e-01,  1.87110223e-01],\n       [-1.33156317e+00,  9.43374844e-01, -3.86186446e-01,\n        -2.94334239e-01,  3.60423008e-03],\n       [-1.40354141e+00, -7.22112678e-01,  1.18605090e-01,\n        -7.05011046e-03, -8.35402091e-01],\n       [ 2.53669443e-02, -7.17690555e-01,  1.36739091e+00,\n        -8.46434813e-01,  6.51167526e-02],\n       [-6.10530911e-01, -9.81978036e-01, -2.22408142e-01,\n        -5.43100673e-01, -6.25184930e-01],\n       [-1.65743309e-01,  1.45027423e+00,  3.99260860e-01,\n        -9.64405969e-01,  1.14878909e+00],\n       [ 2.50799356e-01,  1.43939584e+00,  2.71323983e+00,\n         1.11772186e-01,  1.22825487e+00],\n       [ 8.75372273e-01, -1.18094759e+00, -5.03889180e-01,\n         8.50964109e-01, -2.92068403e-01],\n       [-9.04961632e-01, -9.90258847e-01,  4.47273862e-01,\n         1.00611995e+00, -9.60580921e-02],\n       [-4.28559800e-01, -1.01886279e+00, -9.35054794e-01,\n        -6.10837832e-01,  2.07132199e-01],\n       [-1.08632343e+00, -6.31572630e-01,  3.21226363e-01,\n        -1.44442511e+00,  4.19806392e-02],\n       [ 1.59313022e-01, -1.38332508e+00, -5.40263866e-02,\n        -5.89838925e-01,  6.26735190e-01],\n       [ 1.63291727e-01,  1.30466985e-01, -4.78831690e-01,\n        -6.26631013e-01, -6.54363424e-01]])"
     },
     "execution_count": 29,
     "metadata": {},
     "output_type": "execute_result"
    }
   ],
   "source": [
    "# generate a 5x30 array full or of random numbers\n",
    "a0 = np.random.randn(100, 5)\n",
    "a0"
   ]
  },
  {
   "cell_type": "code",
   "outputs": [
    {
     "data": {
      "text/plain": "array([[-3.14855494e-01,  3.71367932e-01, -3.31407254e-01,\n         1.52467688e+00,  7.30943996e-01],\n       [ 6.67277897e-02,  6.47971920e-01, -1.88603713e+00,\n         1.12133017e+00,  1.50434881e+00],\n       [-1.68757298e-01, -1.99184057e-01, -4.71062034e-01,\n                    nan, -4.99892371e-01],\n       [-3.88371856e-01, -1.56449620e-01,  1.21757212e-01,\n        -1.41990300e+00,  6.94329415e-01],\n       [ 5.16146013e-01,  1.22625465e+00,  8.82429703e-01,\n        -1.31450642e-01,  3.92197673e-01],\n       [ 1.00102213e+00, -3.75739470e-02, -6.97909608e-01,\n         1.74618914e-01, -7.02232001e-01],\n       [-5.54800792e-01, -1.95844857e-01,  1.10100412e+00,\n         1.75362942e-01,  1.22027644e+00],\n       [-1.09024356e+00, -1.71249263e-01, -1.02401483e+00,\n        -7.13873614e-02, -1.42296626e+00],\n       [-3.35179627e-01,  1.66456934e+00, -1.07475125e+00,\n        -1.12168157e+00, -1.44986101e+00],\n       [-8.41526429e-01,  7.81430471e-01, -2.50843171e-01,\n        -1.48265196e+00,  8.12449436e-01],\n       [ 1.12898439e-01,  1.50625086e-01,  6.65922805e-01,\n        -6.50525632e-01,  1.18672719e+00],\n       [-6.77465173e-01, -1.90837533e-02, -1.27518313e+00,\n        -2.09046856e-01,  7.35183858e-01],\n       [-5.88991582e-01,  7.93194574e-01,  3.01289739e-01,\n         1.02595113e+00,  4.97524073e-01],\n       [ 1.80343433e+00, -6.10682646e-01,  9.52747386e-01,\n        -1.99672189e+00, -6.14145101e-01],\n       [-4.56207057e-01,  8.06767689e-01,  4.39052077e-01,\n         4.02532643e-01,  1.61245839e-01],\n       [-2.64170228e-01,  1.03118618e+00, -5.47863934e-01,\n         1.52617375e-01,  1.42381195e+00],\n       [-7.53831006e-01, -1.45078548e+00, -6.86048143e-01,\n         9.68876238e-02, -5.07959288e-01],\n       [ 9.63144689e-01, -3.20813861e-01,  1.86653048e-01,\n        -8.24137073e-01, -1.84906750e+00],\n       [ 2.80846690e+00,  3.49094040e-01, -9.83178339e-02,\n        -1.34303449e+00, -5.09158565e-01],\n       [-2.91024483e-01, -7.52805222e-01,  1.01901152e+00,\n         7.02160033e-02, -3.76426134e-01],\n       [ 7.56007925e-01, -9.53280993e-01, -4.98923984e-01,\n         6.20049392e-01, -1.04136087e+00],\n       [ 1.69313484e+00, -4.91627564e-02, -1.18345830e+00,\n        -3.03183858e-01, -8.29622797e-01],\n       [ 1.44263227e-01,  6.13132125e-02, -1.25218294e+00,\n         8.07276678e-01,  2.09645129e+00],\n       [ 4.74461582e-01,  1.50385062e+00,  6.25957607e-01,\n         9.18388082e-01,  8.93777199e-01],\n       [ 1.61854392e-01, -3.49318555e-01,  1.02020835e+00,\n         8.15669217e-01, -1.83839759e+00],\n       [ 1.11290934e+00,  1.34719115e+00, -2.41747633e-01,\n        -1.05628031e-02, -1.24947104e+00],\n       [ 1.35328163e-01,  1.61168874e+00,  9.54782324e-02,\n         8.06767676e-01, -2.76130184e-01],\n       [ 2.79864727e-01, -3.24393156e-01,  1.69026904e-01,\n        -3.55083028e-02, -2.21480784e+00],\n       [-1.38861726e-01, -1.58376921e-01,  1.80634817e-01,\n         5.67976439e-01, -2.29954716e-01],\n       [-1.05523350e-03,  1.95967669e+00, -1.18665868e+00,\n         2.73722970e-01,  1.58952395e+00],\n       [ 1.32150129e+00, -1.04970261e+00,  1.61007258e+00,\n        -8.92806219e-01,  1.09543860e+00],\n       [-1.05747740e+00,  1.52589809e-02, -4.06422143e-01,\n         2.42919665e-01, -1.40278912e+00],\n       [-5.12534529e-01,  4.47079506e-01, -5.22153674e-01,\n        -1.23024072e+00, -2.77624368e-01],\n       [ 3.02950305e+00,  9.65433997e-01,  6.15538286e-02,\n        -9.03839116e-01, -1.06880537e+00],\n       [ 1.50971391e+00,  1.48558189e-01, -5.83846303e-01,\n        -4.54989916e-01, -2.48238383e-02],\n       [-5.12744626e-01,  2.02222754e-01,  1.71971703e+00,\n        -1.53693743e+00,  8.13772750e-01],\n       [ 1.09811603e-01,  1.17436614e+00, -1.09591254e+00,\n         1.05332823e+00,  8.08086205e-01],\n       [-1.23935515e-01,  2.01516522e-01,  1.60762971e+00,\n         1.44529639e-01,  1.26032068e+00],\n       [ 1.68225606e+00,  1.17934136e+00,  1.27924794e-01,\n         1.90526346e-01, -5.23557635e-01],\n       [-5.22868190e-01,  1.33390205e+00,  1.14438893e-01,\n        -8.89861203e-01,  2.66464341e-01],\n       [-1.14712925e+00,  3.21627712e-01,  1.15150009e+00,\n         2.95207799e-01, -3.74886765e-01],\n       [-9.24380261e-01, -7.58439498e-01, -6.33892663e-02,\n        -7.79360902e-02,  6.45816626e-01],\n       [-6.90163715e-01, -3.12410658e-01, -8.06178149e-02,\n        -1.62149661e+00, -1.05622123e+00],\n       [-5.65180682e-03, -1.68831447e+00,  2.03346706e-02,\n         6.60209482e-01,  5.98940413e-01],\n       [-1.37672876e+00, -2.10503230e-01, -8.28240997e-01,\n         4.16456750e-01, -3.95930076e-01],\n       [-2.13208862e+00, -1.36811780e+00,  1.39151265e+00,\n         7.61209811e-01,  3.84218749e-01],\n       [ 4.37430742e-01,  1.09512660e+00, -1.23228347e+00,\n        -6.23506201e-01,  6.86511451e-02],\n       [-1.96349613e+00,  1.31120066e+00,  1.45738361e+00,\n         7.50593074e-01,  9.62582830e-01],\n       [ 1.25728805e+00,  3.23665819e-01,  3.66304139e-01,\n         3.83062821e-01, -1.93882702e+00],\n       [ 5.07249903e-01,  9.31380430e-01,  3.97276570e-01,\n        -1.66098314e+00, -1.17847807e+00],\n       [ 4.79415105e-01,  7.30289215e-01, -5.30491631e-01,\n        -1.81860213e+00,  1.89199853e-01],\n       [-2.81169128e-01,  2.46419349e-01, -2.30288447e-01,\n        -1.30804452e+00,  5.90738032e-01],\n       [-1.55109243e+00, -5.70361267e-01,  1.13293263e+00,\n        -1.01808322e+00, -8.35919999e-01],\n       [ 1.65787788e-01, -1.25870577e-01,  8.97503318e-01,\n        -7.08216056e-01,  2.87019248e-01],\n       [-1.16986753e+00,  1.85195964e+00, -7.21357927e-02,\n         5.90034046e-01, -3.67717102e-02],\n       [ 5.33071341e-01, -4.10699485e-01, -7.99039911e-01,\n         1.73152805e+00,  2.01036224e+00],\n       [-8.89824150e-01,  4.18757524e-01, -9.38286240e-01,\n        -3.50880660e-01, -1.68183673e-01],\n       [-6.40706470e-02,  4.44378688e-01,  5.83651990e-01,\n         1.20556543e+00, -1.56039053e+00],\n       [ 1.02673397e+00, -4.98715557e-01,  1.25979441e+00,\n         5.14013506e-01,  6.79938673e-01],\n       [-1.36609869e+00, -1.82525927e-02, -7.28891790e-01,\n        -2.00902194e-01, -1.73682424e-01],\n       [ 3.97358756e-01, -5.46576603e-01,  5.52594818e-01,\n        -1.93082109e+00, -1.32318455e-01],\n       [-5.54884201e-01,  1.59198709e+00, -2.07732759e+00,\n        -7.81061011e-01,  1.50516526e+00],\n       [-4.50630843e-02, -2.21707095e-01,  3.61860697e-01,\n        -1.26315673e-01,  6.26358477e-01],\n       [-5.61759814e-01, -2.17597312e-01,  2.48892173e-01,\n         1.22293753e+00,  6.37808518e-01],\n       [ 1.68804158e-01,  3.34445949e-01,  1.50662099e+00,\n         2.63327455e-01,  1.05772852e+00],\n       [-1.03236783e+00, -1.90120909e+00,  9.78219845e-01,\n        -2.06025988e-01,  1.07658244e+00],\n       [-5.36829564e-01,  6.66295674e-01,  3.01111656e-01,\n        -7.86155671e-01, -3.25398967e-01],\n       [ 3.31672234e-02,  3.11267115e-02,  1.80956292e+00,\n         1.17828499e-01,  1.21909934e+00],\n       [-5.99941978e-01, -1.02958534e+00, -4.41495865e-01,\n        -3.67166531e-01,  4.73399639e-01],\n       [ 7.22436650e-01, -1.19652564e+00,  1.06692600e-01,\n         1.37553467e+00, -1.36274052e+00],\n       [-7.45543198e-01, -9.17850675e-01, -1.32734561e+00,\n        -5.36338173e-01,  7.05319567e-01],\n       [ 1.02715806e+00, -4.78888227e-01,  5.01404518e-02,\n        -2.11179236e+00, -1.58847358e-01],\n       [ 6.58723360e-01, -1.39870208e+00, -1.32993553e-01,\n         2.05885557e-01, -6.13274264e-01],\n       [-2.67816259e-01,  1.38495085e+00, -2.51255352e-01,\n         6.70039893e-02, -9.72439187e-01],\n       [ 4.68021767e-01, -5.65638058e-01,  4.63923889e-01,\n         4.58270887e-01, -2.66773472e-02],\n       [ 4.14065214e-01,  3.12465289e-01, -4.19279071e-01,\n         1.61820492e-01,  7.54567642e-01],\n       [-2.53054180e-01,  1.24507886e+00,  3.28432197e-02,\n         4.56124746e-02, -1.73837129e+00],\n       [-1.10713338e+00, -4.12881507e-01,  6.39670095e-02,\n        -8.35819850e-01, -1.79220656e-01],\n       [ 3.75645045e-01, -7.63995899e-01, -1.26685616e+00,\n        -1.32860611e+00,  1.35365010e+00],\n       [ 1.56043427e+00, -1.37135940e+00, -3.38801874e-01,\n        -3.03344331e-01, -1.15406815e+00],\n       [-4.76006545e-02, -5.27365984e-01, -5.12119905e-01,\n        -5.00656684e-02,  1.02970426e-01],\n       [ 4.03118487e-01, -4.88126474e-01,  1.00483306e+00,\n         4.03553475e-01,  2.64795512e-02],\n       [ 1.33577994e+00,  1.08366874e+00,  1.40846131e+00,\n        -1.96640226e+00,  2.23679410e+00],\n       [-1.13144078e+00, -1.50883292e+00,  5.09595133e-01,\n         2.17148461e-01,  8.18583538e-01],\n       [ 2.34155659e-01,  1.16940865e-01,  1.71359581e+00,\n        -5.40948130e-01, -1.14438600e-01],\n       [ 1.48777770e+00, -3.15348658e-01, -1.42084968e+00,\n        -1.65015866e-01,  5.32246408e-01],\n       [-3.43240245e-01, -9.56936213e-01,  5.42822680e-01,\n         1.53031025e-01, -6.81274110e-01],\n       [-7.98557181e-01, -8.89219163e-02,  1.06737081e+00,\n        -2.53401456e-01,  1.87110223e-01],\n       [-1.33156317e+00,  9.43374844e-01, -3.86186446e-01,\n        -2.94334239e-01,  3.60423008e-03],\n       [-1.40354141e+00, -7.22112678e-01,  1.18605090e-01,\n        -7.05011046e-03, -8.35402091e-01],\n       [ 2.53669443e-02, -7.17690555e-01,  1.36739091e+00,\n        -8.46434813e-01,  6.51167526e-02],\n       [-6.10530911e-01, -9.81978036e-01, -2.22408142e-01,\n        -5.43100673e-01, -6.25184930e-01],\n       [-1.65743309e-01,  1.45027423e+00,  3.99260860e-01,\n        -9.64405969e-01,  1.14878909e+00],\n       [ 2.50799356e-01,  1.43939584e+00,  2.71323983e+00,\n         1.11772186e-01,  1.22825487e+00],\n       [ 8.75372273e-01, -1.18094759e+00, -5.03889180e-01,\n         8.50964109e-01, -2.92068403e-01],\n       [-9.04961632e-01, -9.90258847e-01,  4.47273862e-01,\n         1.00611995e+00, -9.60580921e-02],\n       [-4.28559800e-01, -1.01886279e+00, -9.35054794e-01,\n        -6.10837832e-01,  2.07132199e-01],\n       [-1.08632343e+00, -6.31572630e-01,  3.21226363e-01,\n        -1.44442511e+00,  4.19806392e-02],\n       [ 1.59313022e-01, -1.38332508e+00, -5.40263866e-02,\n        -5.89838925e-01,  6.26735190e-01],\n       [ 1.63291727e-01,  1.30466985e-01, -4.78831690e-01,\n        -6.26631013e-01, -6.54363424e-01]])"
     },
     "execution_count": 30,
     "metadata": {},
     "output_type": "execute_result"
    }
   ],
   "source": [
    "# pretend that one of the data points was unfilled, or a NaN\n",
    "a0[2][3] = np.nan\n",
    "a0"
   ],
   "metadata": {
    "collapsed": false,
    "ExecuteTime": {
     "end_time": "2024-07-24T02:33:57.127275Z",
     "start_time": "2024-07-24T02:33:57.112582Z"
    }
   },
   "execution_count": 30
  },
  {
   "cell_type": "markdown",
   "source": [
    "Let's say we want to be able to find the location of that NaN. We can do this with `np.where` and `np.isnan`.\n",
    "* `np.isnan` sets all instances of nan to true within the array, everything else is false"
   ],
   "metadata": {
    "collapsed": false
   }
  },
  {
   "cell_type": "code",
   "outputs": [
    {
     "data": {
      "text/plain": "(array([2]), array([3]))"
     },
     "execution_count": 31,
     "metadata": {},
     "output_type": "execute_result"
    }
   ],
   "source": [
    "# Find the location of the NaN value and store it in a variable named where_nan\n",
    "where_nan = np.where(np.isnan(a0))\n",
    "where_nan"
   ],
   "metadata": {
    "collapsed": false,
    "ExecuteTime": {
     "end_time": "2024-07-24T02:33:59.220257Z",
     "start_time": "2024-07-24T02:33:59.203852Z"
    }
   },
   "execution_count": 31
  },
  {
   "cell_type": "markdown",
   "source": [
    "Now that we know where the NaN value is located, we could delete the row or column that data point is in"
   ],
   "metadata": {
    "collapsed": false
   }
  },
  {
   "cell_type": "code",
   "outputs": [
    {
     "data": {
      "text/plain": "(99, 5)"
     },
     "execution_count": 32,
     "metadata": {},
     "output_type": "execute_result"
    }
   ],
   "source": [
    "# since the NaN would mess up our data we could delete the row it is located in\n",
    "row_delete = np.delete(a0, where_nan[0], 0)\n",
    "row_delete.shape"
   ],
   "metadata": {
    "collapsed": false,
    "ExecuteTime": {
     "end_time": "2024-07-24T02:34:01.620903Z",
     "start_time": "2024-07-24T02:34:01.599885Z"
    }
   },
   "execution_count": 32
  },
  {
   "cell_type": "code",
   "outputs": [
    {
     "data": {
      "text/plain": "(100, 4)"
     },
     "execution_count": 33,
     "metadata": {},
     "output_type": "execute_result"
    }
   ],
   "source": [
    "# we could do the same thing if we wanted the column gone instead\n",
    "col_delete = np.delete(a0, where_nan[0], 1)\n",
    "col_delete.shape"
   ],
   "metadata": {
    "collapsed": false,
    "ExecuteTime": {
     "end_time": "2024-07-24T02:34:03.078806Z",
     "start_time": "2024-07-24T02:34:03.064220Z"
    }
   },
   "execution_count": 33
  },
  {
   "cell_type": "markdown",
   "source": [
    "We could also replace the NaN with some value. For example, let's replace the NaN with a zero. We can do this by using other, optional, arguments in the `np.where` function."
   ],
   "metadata": {
    "collapsed": false
   }
  },
  {
   "cell_type": "code",
   "outputs": [
    {
     "data": {
      "text/plain": "array([[-3.14855494e-01,  3.71367932e-01, -3.31407254e-01,\n         1.52467688e+00,  7.30943996e-01],\n       [ 6.67277897e-02,  6.47971920e-01, -1.88603713e+00,\n         1.12133017e+00,  1.50434881e+00],\n       [-1.68757298e-01, -1.99184057e-01, -4.71062034e-01,\n         0.00000000e+00, -4.99892371e-01],\n       [-3.88371856e-01, -1.56449620e-01,  1.21757212e-01,\n        -1.41990300e+00,  6.94329415e-01],\n       [ 5.16146013e-01,  1.22625465e+00,  8.82429703e-01,\n        -1.31450642e-01,  3.92197673e-01],\n       [ 1.00102213e+00, -3.75739470e-02, -6.97909608e-01,\n         1.74618914e-01, -7.02232001e-01],\n       [-5.54800792e-01, -1.95844857e-01,  1.10100412e+00,\n         1.75362942e-01,  1.22027644e+00],\n       [-1.09024356e+00, -1.71249263e-01, -1.02401483e+00,\n        -7.13873614e-02, -1.42296626e+00],\n       [-3.35179627e-01,  1.66456934e+00, -1.07475125e+00,\n        -1.12168157e+00, -1.44986101e+00],\n       [-8.41526429e-01,  7.81430471e-01, -2.50843171e-01,\n        -1.48265196e+00,  8.12449436e-01],\n       [ 1.12898439e-01,  1.50625086e-01,  6.65922805e-01,\n        -6.50525632e-01,  1.18672719e+00],\n       [-6.77465173e-01, -1.90837533e-02, -1.27518313e+00,\n        -2.09046856e-01,  7.35183858e-01],\n       [-5.88991582e-01,  7.93194574e-01,  3.01289739e-01,\n         1.02595113e+00,  4.97524073e-01],\n       [ 1.80343433e+00, -6.10682646e-01,  9.52747386e-01,\n        -1.99672189e+00, -6.14145101e-01],\n       [-4.56207057e-01,  8.06767689e-01,  4.39052077e-01,\n         4.02532643e-01,  1.61245839e-01],\n       [-2.64170228e-01,  1.03118618e+00, -5.47863934e-01,\n         1.52617375e-01,  1.42381195e+00],\n       [-7.53831006e-01, -1.45078548e+00, -6.86048143e-01,\n         9.68876238e-02, -5.07959288e-01],\n       [ 9.63144689e-01, -3.20813861e-01,  1.86653048e-01,\n        -8.24137073e-01, -1.84906750e+00],\n       [ 2.80846690e+00,  3.49094040e-01, -9.83178339e-02,\n        -1.34303449e+00, -5.09158565e-01],\n       [-2.91024483e-01, -7.52805222e-01,  1.01901152e+00,\n         7.02160033e-02, -3.76426134e-01],\n       [ 7.56007925e-01, -9.53280993e-01, -4.98923984e-01,\n         6.20049392e-01, -1.04136087e+00],\n       [ 1.69313484e+00, -4.91627564e-02, -1.18345830e+00,\n        -3.03183858e-01, -8.29622797e-01],\n       [ 1.44263227e-01,  6.13132125e-02, -1.25218294e+00,\n         8.07276678e-01,  2.09645129e+00],\n       [ 4.74461582e-01,  1.50385062e+00,  6.25957607e-01,\n         9.18388082e-01,  8.93777199e-01],\n       [ 1.61854392e-01, -3.49318555e-01,  1.02020835e+00,\n         8.15669217e-01, -1.83839759e+00],\n       [ 1.11290934e+00,  1.34719115e+00, -2.41747633e-01,\n        -1.05628031e-02, -1.24947104e+00],\n       [ 1.35328163e-01,  1.61168874e+00,  9.54782324e-02,\n         8.06767676e-01, -2.76130184e-01],\n       [ 2.79864727e-01, -3.24393156e-01,  1.69026904e-01,\n        -3.55083028e-02, -2.21480784e+00],\n       [-1.38861726e-01, -1.58376921e-01,  1.80634817e-01,\n         5.67976439e-01, -2.29954716e-01],\n       [-1.05523350e-03,  1.95967669e+00, -1.18665868e+00,\n         2.73722970e-01,  1.58952395e+00],\n       [ 1.32150129e+00, -1.04970261e+00,  1.61007258e+00,\n        -8.92806219e-01,  1.09543860e+00],\n       [-1.05747740e+00,  1.52589809e-02, -4.06422143e-01,\n         2.42919665e-01, -1.40278912e+00],\n       [-5.12534529e-01,  4.47079506e-01, -5.22153674e-01,\n        -1.23024072e+00, -2.77624368e-01],\n       [ 3.02950305e+00,  9.65433997e-01,  6.15538286e-02,\n        -9.03839116e-01, -1.06880537e+00],\n       [ 1.50971391e+00,  1.48558189e-01, -5.83846303e-01,\n        -4.54989916e-01, -2.48238383e-02],\n       [-5.12744626e-01,  2.02222754e-01,  1.71971703e+00,\n        -1.53693743e+00,  8.13772750e-01],\n       [ 1.09811603e-01,  1.17436614e+00, -1.09591254e+00,\n         1.05332823e+00,  8.08086205e-01],\n       [-1.23935515e-01,  2.01516522e-01,  1.60762971e+00,\n         1.44529639e-01,  1.26032068e+00],\n       [ 1.68225606e+00,  1.17934136e+00,  1.27924794e-01,\n         1.90526346e-01, -5.23557635e-01],\n       [-5.22868190e-01,  1.33390205e+00,  1.14438893e-01,\n        -8.89861203e-01,  2.66464341e-01],\n       [-1.14712925e+00,  3.21627712e-01,  1.15150009e+00,\n         2.95207799e-01, -3.74886765e-01],\n       [-9.24380261e-01, -7.58439498e-01, -6.33892663e-02,\n        -7.79360902e-02,  6.45816626e-01],\n       [-6.90163715e-01, -3.12410658e-01, -8.06178149e-02,\n        -1.62149661e+00, -1.05622123e+00],\n       [-5.65180682e-03, -1.68831447e+00,  2.03346706e-02,\n         6.60209482e-01,  5.98940413e-01],\n       [-1.37672876e+00, -2.10503230e-01, -8.28240997e-01,\n         4.16456750e-01, -3.95930076e-01],\n       [-2.13208862e+00, -1.36811780e+00,  1.39151265e+00,\n         7.61209811e-01,  3.84218749e-01],\n       [ 4.37430742e-01,  1.09512660e+00, -1.23228347e+00,\n        -6.23506201e-01,  6.86511451e-02],\n       [-1.96349613e+00,  1.31120066e+00,  1.45738361e+00,\n         7.50593074e-01,  9.62582830e-01],\n       [ 1.25728805e+00,  3.23665819e-01,  3.66304139e-01,\n         3.83062821e-01, -1.93882702e+00],\n       [ 5.07249903e-01,  9.31380430e-01,  3.97276570e-01,\n        -1.66098314e+00, -1.17847807e+00],\n       [ 4.79415105e-01,  7.30289215e-01, -5.30491631e-01,\n        -1.81860213e+00,  1.89199853e-01],\n       [-2.81169128e-01,  2.46419349e-01, -2.30288447e-01,\n        -1.30804452e+00,  5.90738032e-01],\n       [-1.55109243e+00, -5.70361267e-01,  1.13293263e+00,\n        -1.01808322e+00, -8.35919999e-01],\n       [ 1.65787788e-01, -1.25870577e-01,  8.97503318e-01,\n        -7.08216056e-01,  2.87019248e-01],\n       [-1.16986753e+00,  1.85195964e+00, -7.21357927e-02,\n         5.90034046e-01, -3.67717102e-02],\n       [ 5.33071341e-01, -4.10699485e-01, -7.99039911e-01,\n         1.73152805e+00,  2.01036224e+00],\n       [-8.89824150e-01,  4.18757524e-01, -9.38286240e-01,\n        -3.50880660e-01, -1.68183673e-01],\n       [-6.40706470e-02,  4.44378688e-01,  5.83651990e-01,\n         1.20556543e+00, -1.56039053e+00],\n       [ 1.02673397e+00, -4.98715557e-01,  1.25979441e+00,\n         5.14013506e-01,  6.79938673e-01],\n       [-1.36609869e+00, -1.82525927e-02, -7.28891790e-01,\n        -2.00902194e-01, -1.73682424e-01],\n       [ 3.97358756e-01, -5.46576603e-01,  5.52594818e-01,\n        -1.93082109e+00, -1.32318455e-01],\n       [-5.54884201e-01,  1.59198709e+00, -2.07732759e+00,\n        -7.81061011e-01,  1.50516526e+00],\n       [-4.50630843e-02, -2.21707095e-01,  3.61860697e-01,\n        -1.26315673e-01,  6.26358477e-01],\n       [-5.61759814e-01, -2.17597312e-01,  2.48892173e-01,\n         1.22293753e+00,  6.37808518e-01],\n       [ 1.68804158e-01,  3.34445949e-01,  1.50662099e+00,\n         2.63327455e-01,  1.05772852e+00],\n       [-1.03236783e+00, -1.90120909e+00,  9.78219845e-01,\n        -2.06025988e-01,  1.07658244e+00],\n       [-5.36829564e-01,  6.66295674e-01,  3.01111656e-01,\n        -7.86155671e-01, -3.25398967e-01],\n       [ 3.31672234e-02,  3.11267115e-02,  1.80956292e+00,\n         1.17828499e-01,  1.21909934e+00],\n       [-5.99941978e-01, -1.02958534e+00, -4.41495865e-01,\n        -3.67166531e-01,  4.73399639e-01],\n       [ 7.22436650e-01, -1.19652564e+00,  1.06692600e-01,\n         1.37553467e+00, -1.36274052e+00],\n       [-7.45543198e-01, -9.17850675e-01, -1.32734561e+00,\n        -5.36338173e-01,  7.05319567e-01],\n       [ 1.02715806e+00, -4.78888227e-01,  5.01404518e-02,\n        -2.11179236e+00, -1.58847358e-01],\n       [ 6.58723360e-01, -1.39870208e+00, -1.32993553e-01,\n         2.05885557e-01, -6.13274264e-01],\n       [-2.67816259e-01,  1.38495085e+00, -2.51255352e-01,\n         6.70039893e-02, -9.72439187e-01],\n       [ 4.68021767e-01, -5.65638058e-01,  4.63923889e-01,\n         4.58270887e-01, -2.66773472e-02],\n       [ 4.14065214e-01,  3.12465289e-01, -4.19279071e-01,\n         1.61820492e-01,  7.54567642e-01],\n       [-2.53054180e-01,  1.24507886e+00,  3.28432197e-02,\n         4.56124746e-02, -1.73837129e+00],\n       [-1.10713338e+00, -4.12881507e-01,  6.39670095e-02,\n        -8.35819850e-01, -1.79220656e-01],\n       [ 3.75645045e-01, -7.63995899e-01, -1.26685616e+00,\n        -1.32860611e+00,  1.35365010e+00],\n       [ 1.56043427e+00, -1.37135940e+00, -3.38801874e-01,\n        -3.03344331e-01, -1.15406815e+00],\n       [-4.76006545e-02, -5.27365984e-01, -5.12119905e-01,\n        -5.00656684e-02,  1.02970426e-01],\n       [ 4.03118487e-01, -4.88126474e-01,  1.00483306e+00,\n         4.03553475e-01,  2.64795512e-02],\n       [ 1.33577994e+00,  1.08366874e+00,  1.40846131e+00,\n        -1.96640226e+00,  2.23679410e+00],\n       [-1.13144078e+00, -1.50883292e+00,  5.09595133e-01,\n         2.17148461e-01,  8.18583538e-01],\n       [ 2.34155659e-01,  1.16940865e-01,  1.71359581e+00,\n        -5.40948130e-01, -1.14438600e-01],\n       [ 1.48777770e+00, -3.15348658e-01, -1.42084968e+00,\n        -1.65015866e-01,  5.32246408e-01],\n       [-3.43240245e-01, -9.56936213e-01,  5.42822680e-01,\n         1.53031025e-01, -6.81274110e-01],\n       [-7.98557181e-01, -8.89219163e-02,  1.06737081e+00,\n        -2.53401456e-01,  1.87110223e-01],\n       [-1.33156317e+00,  9.43374844e-01, -3.86186446e-01,\n        -2.94334239e-01,  3.60423008e-03],\n       [-1.40354141e+00, -7.22112678e-01,  1.18605090e-01,\n        -7.05011046e-03, -8.35402091e-01],\n       [ 2.53669443e-02, -7.17690555e-01,  1.36739091e+00,\n        -8.46434813e-01,  6.51167526e-02],\n       [-6.10530911e-01, -9.81978036e-01, -2.22408142e-01,\n        -5.43100673e-01, -6.25184930e-01],\n       [-1.65743309e-01,  1.45027423e+00,  3.99260860e-01,\n        -9.64405969e-01,  1.14878909e+00],\n       [ 2.50799356e-01,  1.43939584e+00,  2.71323983e+00,\n         1.11772186e-01,  1.22825487e+00],\n       [ 8.75372273e-01, -1.18094759e+00, -5.03889180e-01,\n         8.50964109e-01, -2.92068403e-01],\n       [-9.04961632e-01, -9.90258847e-01,  4.47273862e-01,\n         1.00611995e+00, -9.60580921e-02],\n       [-4.28559800e-01, -1.01886279e+00, -9.35054794e-01,\n        -6.10837832e-01,  2.07132199e-01],\n       [-1.08632343e+00, -6.31572630e-01,  3.21226363e-01,\n        -1.44442511e+00,  4.19806392e-02],\n       [ 1.59313022e-01, -1.38332508e+00, -5.40263866e-02,\n        -5.89838925e-01,  6.26735190e-01],\n       [ 1.63291727e-01,  1.30466985e-01, -4.78831690e-01,\n        -6.26631013e-01, -6.54363424e-01]])"
     },
     "execution_count": 34,
     "metadata": {},
     "output_type": "execute_result"
    }
   ],
   "source": [
    "# the tilde (~) flips the boolean values since np.where replaces false not true\n",
    "# unlike the previous np.where usage, this outputs our original array with replacements\n",
    "replace_nan = np.where(~np.isnan(a0), a0, 0.)\n",
    "replace_nan"
   ],
   "metadata": {
    "collapsed": false,
    "ExecuteTime": {
     "end_time": "2024-07-24T02:34:12.832746Z",
     "start_time": "2024-07-24T02:34:12.813650Z"
    }
   },
   "execution_count": 34
  },
  {
   "cell_type": "markdown",
   "source": [
    "Now, let's plot some of the data we generated!"
   ],
   "metadata": {
    "collapsed": false
   }
  },
  {
   "cell_type": "code",
   "outputs": [
    {
     "data": {
      "text/plain": "<matplotlib.legend.Legend at 0x7f8a90706580>"
     },
     "execution_count": 35,
     "metadata": {},
     "output_type": "execute_result"
    },
    {
     "data": {
      "text/plain": "<Figure size 640x480 with 1 Axes>",
      "image/png": "[encoded data removed]"
     },
     "metadata": {},
     "output_type": "display_data"
    }
   ],
   "source": [
    "# we can take extract the rows using standard indexing\n",
    "# we then have to take the transpose of the data so that the plt.hist function will read the data correctly\n",
    "hist = plt.hist(replace_nan, [-3, -2, -1, 0, 1, 2, 3])\n",
    "plt.legend([\"row 0\", \"row 1\",\"row 2\",\"row 3\",\"row 4\"])"
   ],
   "metadata": {
    "collapsed": false,
    "ExecuteTime": {
     "end_time": "2024-07-24T02:34:16.349354Z",
     "start_time": "2024-07-24T02:34:16.158355Z"
    }
   },
   "execution_count": 35
  },
  {
   "cell_type": "markdown",
   "source": [
    "We can output the mean and variance as well to see if it matches the expected 0,1, given the normal distribution we sampled from."
   ],
   "metadata": {
    "collapsed": false
   }
  },
  {
   "cell_type": "code",
   "outputs": [
    {
     "name": "stdout",
     "output_type": "stream",
     "text": [
      "[-0.02262902  0.03083949  0.08163679 -0.1795942   0.04645327]\n"
     ]
    }
   ],
   "source": [
    "# calculate the mean of each column\n",
    "mean = np.average(replace_nan, axis = 0)\n",
    "print(mean)"
   ],
   "metadata": {
    "collapsed": false,
    "ExecuteTime": {
     "end_time": "2024-07-24T02:34:18.797346Z",
     "start_time": "2024-07-24T02:34:18.788473Z"
    }
   },
   "execution_count": 36
  },
  {
   "cell_type": "code",
   "outputs": [
    {
     "name": "stdout",
     "output_type": "stream",
     "text": [
      "[0.86643599 0.81228623 0.80475494 0.72727784 0.91654178]\n"
     ]
    }
   ],
   "source": [
    "# calculate the variance of each column\n",
    "variance = np.var(replace_nan, axis = 0)\n",
    "print(variance)"
   ],
   "metadata": {
    "collapsed": false,
    "ExecuteTime": {
     "end_time": "2024-07-24T02:34:20.516937Z",
     "start_time": "2024-07-24T02:34:20.510243Z"
    }
   },
   "execution_count": 37
  },
  {
   "cell_type": "markdown",
   "metadata": {},
   "source": [
    "# In class exercise"
   ]
  },
  {
   "cell_type": "markdown",
   "metadata": {},
   "source": [
    "In this exercise we will walk through some of the stuff we have covered previously and introduce some new helper functions that should be useful for most people.\n",
    "In general we will have an \"expected\" response curve, we will generate some data with noise, and then we will compare the noisy data to the expected response.\n",
    "We are going to pretend that we are doing some sampling every 0.01s between 0.0s and 1.0s, and this will be our independent variable space, or our time domain.\n",
    "We will start with generating the independent variable space using two different methods, using `np.arange` and `np.linspace`.\n",
    "They are both useful, but sometimes one is better than the other depending on the context."
   ]
  },
  {
   "cell_type": "code",
   "execution_count": 38,
   "metadata": {
    "ExecuteTime": {
     "end_time": "2024-07-24T02:34:22.631870Z",
     "start_time": "2024-07-24T02:34:22.627916Z"
    }
   },
   "outputs": [],
   "source": [
    "# we will start with generating an array that goes from 0-1 with a step size of 0.01\n",
    "t = np.arange(0., 1.0001, 0.01)  "
   ]
  },
  {
   "cell_type": "markdown",
   "metadata": {},
   "source": [
    "Now that we have generated our independent variable space, we can specify what our expected response function should look like. \n",
    "In our case we would like to generate the following curve that we can pretend is expected position, *y*, given a time value, *t*, from our time domain. \n",
    "\n",
    "$y = 0.5 e^{t^2} + 1.5$"
   ]
  },
  {
   "cell_type": "code",
   "execution_count": 39,
   "metadata": {
    "ExecuteTime": {
     "end_time": "2024-07-24T02:34:24.374348Z",
     "start_time": "2024-07-24T02:34:24.361620Z"
    }
   },
   "outputs": [],
   "source": [
    "# Calculate the expected response for all times in t and store the result in expected_response\n",
    "# you can use generic python syntax for everything but the exponential\n",
    "# the only numpy specific function you might need is np.exp for the exponential\n",
    "expected_response = 0.5 * np.exp(t**2) + 1.5"
   ]
  },
  {
   "cell_type": "code",
   "outputs": [
    {
     "data": {
      "text/plain": "<Figure size 640x480 with 1 Axes>",
      "image/png": "[encoded data removed]"
     },
     "metadata": {},
     "output_type": "display_data"
    }
   ],
   "source": [
    "# plot expected curve\n",
    "fig = plt.plot(t, expected_response)\n",
    "plt.title('expected response curve')\n",
    "plt.xlabel('time')\n",
    "plt.ylabel('position');"
   ],
   "metadata": {
    "collapsed": false,
    "ExecuteTime": {
     "end_time": "2024-07-24T02:34:26.237088Z",
     "start_time": "2024-07-24T02:34:26.127901Z"
    }
   },
   "execution_count": 40
  },
  {
   "cell_type": "markdown",
   "metadata": {},
   "source": [
    "Now that we have our expected value we can simulate noise in our data. \n",
    "We will do this through introducing random values such that the average should replicate our data.\n",
    "We will generate 50 samples of the same length as our *t* vector.\n",
    "\n",
    "$t_{rand} = t * N_{mult}(\\mu = 1, \\sigma^2 = 0.001) + N_{add}(\\mu = 0, \\sigma^2 = 0.005)$"
   ]
  },
  {
   "cell_type": "code",
   "execution_count": 41,
   "metadata": {
    "ExecuteTime": {
     "end_time": "2024-07-24T02:34:29.091439Z",
     "start_time": "2024-07-24T02:34:28.575290Z"
    }
   },
   "outputs": [
    {
     "data": {
      "text/plain": "<Figure size 640x480 with 1 Axes>",
      "image/png": "[encoded data removed]"
     },
     "metadata": {},
     "output_type": "display_data"
    }
   ],
   "source": [
    "# create the two random arrays of shape 50 x length of the time domain\n",
    "mult_rand = np.sqrt(0.001) * np.random.randn(50, 101) + 1.\n",
    "add_rand = np.sqrt(0.005) * np.random.randn(50, 101)\n",
    "\n",
    "# add noise to the t variable, this will come directly from the equation above\n",
    "# it's a linear transformation of a*t + b, but using the appropriate NumPy syntax\n",
    "t_rand = np.multiply(t, mult_rand) + add_rand\n",
    "\n",
    "# use the same syntax as before to process the randomized time data\n",
    "# this should be a direct copy from what you have in the previous code snippet\n",
    "random_response = 0.5 * np.exp(t_rand**2) + 1.5\n",
    "\n",
    "# find the min, max, and average response at each time step\n",
    "r_max = np.max(random_response, axis = 0)\n",
    "r_min = np.min(random_response, axis = 0)\n",
    "r_avg = np.mean(random_response, axis = 0)\n",
    "\n",
    "# this plots the output generated above as \n",
    "fig = plt.plot(t, expected_response, 'k--', t, r_avg, 'r')\n",
    "plt.fill_between(t, r_min, r_max, alpha = 0.3)\n",
    "plt.legend(['Expected', 'Generated Mean', 'Min/Max Range'], loc = 'upper left')\n",
    "plt.xlabel('time')\n",
    "plt.ylabel('position');"
   ]
  },
  {
   "cell_type": "markdown",
   "metadata": {},
   "source": [
    "Let's finally do some procesing so we can finalize our data for output!\n",
    "We can pretend that the 8th and 23rd sample ranges were done by a trainee that had set the sample frequency to be a little too slow.\n",
    "We are also limited by our instruments in that they are unreliable when the position is greater than 3.25 so we will remove any samples that reached more than 3.25 at any time in the experiment.\n",
    "**Side note:** this is not a real example, and data should only be excluded when appropriate."
   ]
  },
  {
   "cell_type": "code",
   "execution_count": 42,
   "metadata": {
    "ExecuteTime": {
     "end_time": "2024-07-24T02:34:32.662066Z",
     "start_time": "2024-07-24T02:34:32.531827Z"
    }
   },
   "outputs": [
    {
     "name": "stdout",
     "output_type": "stream",
     "text": [
      "The number of samples left after removing the bad trainee data is 48\n",
      "The number of samples left after removing the data > 3.25 is 37\n",
      "our final_data for output has shape (52, 101)\n"
     ]
    },
    {
     "data": {
      "text/plain": "<Figure size 640x480 with 1 Axes>",
      "image/png": "[encoded data removed]"
     },
     "metadata": {},
     "output_type": "display_data"
    }
   ],
   "source": [
    "# remove the 8th and 23rd sample rows from the data\n",
    "exclude_data = np.delete(random_response, [7, 22], axis = 0)\n",
    "\n",
    "# store the number of samples left over after removing the bad trainee data\n",
    "# this should be equal to the number of rows left over in the data\n",
    "number_of_samples = exclude_data.shape[0]\n",
    "print('The number of samples left after removing the bad trainee data is', number_of_samples)\n",
    "\n",
    "# we need to find where the remaining data exceeds 3.25, and then delete those rows\n",
    "# we will then re calculate the number of samples to get an idea for how many samples were removed by this filter\n",
    "too_big_indices = np.where(exclude_data > 3.25)\n",
    "exclude_data = np.delete(exclude_data, too_big_indices[0], axis = 0)\n",
    "number_of_samples = exclude_data.shape[0]\n",
    "print('The number of samples left after removing the data > 3.25 is', number_of_samples)\n",
    "\n",
    "# this replots the data to show the results\n",
    "# any large peaks should be gone now\n",
    "r_max = np.max(exclude_data, axis = 0)\n",
    "r_min = np.min(exclude_data, axis = 0)\n",
    "r_avg = np.mean(exclude_data, axis = 0)\n",
    "fig = plt.plot(t, expected_response, 'k--', t, r_avg, 'r')\n",
    "plt.fill_between(t, r_min, r_max, alpha = 0.3)\n",
    "plt.legend(['Expected', 'Filtered Mean', 'Min/Max Range'],loc = 'upper left')\n",
    "plt.xlabel('time')\n",
    "plt.ylabel('position');\n",
    "\n",
    "# in this final step we will at the time domain on top of rest of the data set \n",
    "# this will allow us to save the data in one large array rather than an array for the time\n",
    "# and an array for the pre-filtered data\n",
    "\n",
    "# a subtlety of NumPy is that ranges have dimension 1, while our response has two dimensions\n",
    "# in order for the append function to work we have to make our time domain two dimensional\n",
    "# which is just 1 x number of time points\n",
    "# we use reshape here instead of resize because resize will change the original t data\n",
    "# while reshape will just output a new array of the correct shape\n",
    "t_vec = t.reshape([1, len(t)]) \n",
    "\n",
    "# now we can use append to add the sampled data to the end of the time domain\n",
    "final_data = np.append(t_vec, random_response, axis = 0)\n",
    "\n",
    "# this step we realize it might be nice to include the expected response in the output as well\n",
    "# so it does not have to be generated again later\n",
    "final_data = np.insert(final_data, 1, expected_response, axis = 0)\n",
    "          \n",
    "# so the rows should look like 1: time, 2: expected response, 3-52: sampled data\n",
    "# step just checks that our final data has the correct shape, 52 x number of time steps\n",
    "print('our final_data for output has shape', final_data.shape)"
   ]
  },
  {
   "cell_type": "markdown",
   "metadata": {},
   "source": [
    "# Homework"
   ]
  },
  {
   "cell_type": "markdown",
   "metadata": {
    "collapsed": true
   },
   "source": [
    "Here is a website that goes through a good sample of NumPy [problems](https://www.w3schools.com/python/numpy/numpy_exercises.asp). \n",
    "It covers some functions that this lesson did not explicitly cover as this lesson tried to introduce some more advanced attributes of NumPy that might be immediately relevant for your data processing."
   ]
  },
  {
   "cell_type": "code",
   "execution_count": null,
   "metadata": {
    "ExecuteTime": {
     "start_time": "2024-07-24T02:32:18.337511Z"
    }
   },
   "outputs": [],
   "source": []
  }
 ],
 "metadata": {
  "anaconda-cloud": {},
  "kernelspec": {
   "display_name": "Python 3",
   "language": "python",
   "name": "python3"
  },
  "language_info": {
   "codemirror_mode": {
    "name": "ipython",
    "version": 3
   },
   "file_extension": ".py",
   "mimetype": "text/x-python",
   "name": "python",
   "nbconvert_exporter": "python",
   "pygments_lexer": "ipython3",
   "version": "3.6.9"
  },
  "toc": {
   "colors": {
    "hover_highlight": "#DAA520",
    "navigate_num": "#000000",
    "navigate_text": "#333333",
    "running_highlight": "#FF0000",
    "selected_highlight": "#FFD700",
    "sidebar_border": "#EEEEEE",
    "wrapper_background": "#FFFFFF"
   },
   "moveMenuLeft": true,
   "nav_menu": {
    "height": "104px",
    "width": "251px"
   },
   "navigate_menu": true,
   "number_sections": true,
   "sideBar": true,
   "threshold": 4,
   "toc_cell": false,
   "toc_section_display": "block",
   "toc_window_display": false,
   "widenNotebook": false
  }
 },
 "nbformat": 4,
 "nbformat_minor": 1
}
