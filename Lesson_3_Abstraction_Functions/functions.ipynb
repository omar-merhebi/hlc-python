{
    "cells": [
        {
            "cell_type": "markdown",
            "id": "d9851b79",
            "metadata": {},
            "source": "[![Open In Colab](https://colab.research.google.com/assets/colab-badge.svg)](https://colab.research.google.com/github/How-to-Learn-to-Code/python-class/blob/master/Lesson_3_Abstraction_Functions/functions.ipynb)"
        },
        {
            "cell_type": "markdown",
            "id": "9bde1921",
            "metadata": {},
            "source": "## Lesson 3 - Abstraction, Functions, and Scope\nLearning objectives: Students will be able to design, use, and write functions with consistent variable scoping and design choices.\n\nSpecific skills:\n* Writing psuedocode\n* Writing basic functions\n* Using functions\n* Using multiple arguments in a function and calling them inside the scope of the function\n* Writing local and global variables and pass them between scopes\n* Adding default values to a function parameter\n* Docstrings\n* Using `assert` to test a functions output\n\nTable of Contents"
        },
        {
            "cell_type": "markdown",
            "id": "c9bdc07b",
            "metadata": {},
            "source": "## Introduction\n\nAbstraction is a core concept in programming; it's the idea of taking something complex and assigning it a simpler and more reusable form. You've already learned about a form of abstraction in lessons 1 and 2: variables. When you assign a string, number, list, etc. to a variable you're separating the item (the data in the variable) from the accession (the variable name). \n\nThis same idea can be applied to processes; these are called functions. Functions allow you to execute a series of commands using a single execution call and can be written to process multiple inputs by being called multiple times. \n\nAbstraction is a fundamentally difficult concept to grasp in programming, so don't feel bad if it takes a bit to wrap your head around.\n\n## Motivating Example 1\n\nLet's start with an example from basic biology: finding a the reverse complement of a strand of DNA. Take the sequence `AACGTATAGCCGA`. What are the steps that you would take to find its reverse complement by hand? One way you could approach this is as follows:\n1. Reverse the order of the string.\n2. Flip each nucleotide to its complement, one at a time.\n\nNow, let's translate this simple process into code. First, let's reverse the string:"
        },
        {
            "cell_type": "code",
            "execution_count": 3,
            "id": "8b5da5ef",
            "metadata": {
                "trusted": true
            },
            "outputs": [
                {
                    "name": "stdout",
                    "output_type": "stream",
                    "text": "AGCCGATATGCAA\n"
                }
            ],
            "source": "dna = 'AACGTATAGCCGA'\nrev_dna = dna[::-1]\nprint(rev_dna)"
        },
        {
            "cell_type": "markdown",
            "id": "e2b5ba15",
            "metadata": {},
            "source": "Next, let's build a loop to switch each nucleotide to its complement:"
        },
        {
            "cell_type": "code",
            "execution_count": 4,
            "id": "9ba0adef",
            "metadata": {
                "trusted": true
            },
            "outputs": [
                {
                    "name": "stdout",
                    "output_type": "stream",
                    "text": "TCGGCTATACGTT\n"
                }
            ],
            "source": "rev_comp_dna = ''\nfor nuc in rev_dna:\n    if nuc == 'A':\n        rev_comp_dna += 'T'\n    elif nuc == 'T':\n        rev_comp_dna += 'A'\n    elif nuc == 'C':\n        rev_comp_dna += 'G'\n    elif nuc == 'G':\n        rev_comp_dna += 'C'\nprint(rev_comp_dna)"
        },
        {
            "cell_type": "markdown",
            "id": "defeb3f1",
            "metadata": {},
            "source": "That's all there is to it! Many problems that you run into in the course of your work can be translated into code in a similar manner. In the next example, we will learn more about this process, using a tool called \"pseudocode\"."
        },
        {
            "cell_type": "markdown",
            "id": "0dcf1840",
            "metadata": {},
            "source": "## Motivating Example 2\n\nConsider a common training task: building a calculator that can do the following with two numbers:\n    - Add\n    - Subtract\n    - Multiply \n    - Divide\n    - Calculate an exponent (raise the first number to the power of the second)\n\nWe choose this because it is straightforward to understand, has a clear requirement for inputs/outputs, and is easily testable. You already learned how to do all of these mathematical operations, so the only novel concept will be related to building and running functions.\n\n\n## Pseudocode\n\nWhen writing functions it's important to think about 3 things:\n  - What does my function need to do? *or* What output should my function return?\n  - What input does it require?\n  - What steps need to happen to go from input to output?\n\nWriting out these requirements and steps in natural language is an organized and efficient way to understand your function before writing it, which makes the creation and testing easier. This is called *pseudocode* because it is not code but explains the logic behind a section of code that's organized in the same way as the code itself.\n\nHere's how I would write these notes for our calculator example:\n\n- **Input**: \n  - Mathematical operation\n  - Number 1\n  - Number 2\n- **Output**: \n  - Resulting value from operation\n- **Process (pseudocode)**:\n  - Check for inputted operation\n  - Calculate the operation using two inputted values\n  - Return resulting value\n\n### First example\n\nWith that, let's write our first, and simplest, form of a function: a function to add two numbers."
        },
        {
            "cell_type": "code",
            "execution_count": null,
            "id": "6159ad16",
            "metadata": {
                "trusted": true
            },
            "outputs": [],
            "source": "def add(num_1, num_2):\n\n    result = num_1 + num_2\n    \n    return result\n\n\n\"\"\"\n#Note: you can also return without an intermediate variable\n\ndef add(num_1, num_2):\n    return num_1 + num_2\n\"\"\""
        },
        {
            "cell_type": "markdown",
            "id": "e38f5d8e",
            "metadata": {},
            "source": "Notice how the function has three major components: \n- `def add(num_1, num_2):` which defines the name of the function and the inputs in the function declaration.\n- The commands to be run whenever the function is run, we only have one in this case: `result = num_1 + num_2`.\n- `return result`, which tells the function that it's done everything it needs to and what value(s) to give to the global scope (more on that later). Whatever value(s) are returned can then be set as a variable when you call the function, as you'll see in the next block of code. \n  - Note: You can return multiple values by giving a comma separated list of them, e.g. `return foo, bar, baz`\n\n\nAlso notice that if you try to run the code block above nothing happens. This is because all we've done so far is *define* the function, meaning we built the machinery, but we haven't actually ran it yet. \n\nYou've probably already run a function without realizing it though using the humble `print()`. If you've printed anything using that, you've run a function. `print()` takes in one or more strings and outputs them to the terminal. Calling a function is usually as simple as calling print, you type the name of the function followed by parentheses containing the inputs. \n\nLet's give this a go with our adding function in a couple different flavors, all of which are functionally identical:"
        },
        {
            "cell_type": "code",
            "execution_count": null,
            "id": "262cbcb9",
            "metadata": {
                "trusted": true
            },
            "outputs": [],
            "source": "#All are equivalent\n\n#Positional args\nadd_result = add(2, 8)\n\n#Keyword args\nadd_result = add(num_1=2, num_2=8)\n\n#Positional args with variables\nnum_1 = 2\nnum_2 = 8\nadd_result = add(num_1, num_2)\n\n#Keyword args with variables\nnum_1 = 2\nnum_2 = 8\nadd_result = add(num_1=num_1, num_2=num_2)"
        },
        {
            "cell_type": "markdown",
            "id": "d3485ada",
            "metadata": {},
            "source": "As you can see, there are a few different ways you can specify inputs for functions:\n1. Positional arguments: assume the inputs are given in the same order as defined in the function definition (first argument for `add()` is always `num_1`, second is always `num_2`).\n2. Keyword arguments: explicitly state which argument you are assinging during the function use, non-ordered.\n\nBoth methods are used in different contexts, generally it comes down to how complex a set of inputs are and your preferred style, just remember that positional args are dependent on the order they're in during the definition, so it's easier to lead to errors."
        },
        {
            "cell_type": "markdown",
            "id": "d35626dc",
            "metadata": {},
            "source": "## Default Values\n\nSometimes you may have a function that will rarely need a different input than a known value. In our addition function, let's assume someone almost always wants to add 5 to a value. In situations like these it's useful to add a default value in the function definition, this ensures known outcome for the developer but also makes it easier for users to run code if they don't want to specify function inputs when the parameter value is (usually) obvious. \n\nHere's a re-definition of the addition machine with a default value of 5 for `num_2`:"
        },
        {
            "cell_type": "code",
            "execution_count": null,
            "id": "6f01dbeb",
            "metadata": {
                "trusted": true
            },
            "outputs": [],
            "source": "def add(num_1, num_2=5):\n\n    result = num_1 + num_2\n    \n    return result\n\nadd_res = add(num_1=2)\nprint(add_res)"
        },
        {
            "cell_type": "markdown",
            "id": "76bd57ef",
            "metadata": {},
            "source": "Pretty simple, huh? To set a default value all you need to do is set the input parameter equal to the default value in the definition. Whenever the function is called it now only requires `num_1`, since the function already knows what `num_2` is.\n\nOf course in this case since addition is commutative (doesn't matter which order the numbers are in) this is pretty useless. Let's write a subtraction function where the order of inputs matters:"
        },
        {
            "cell_type": "code",
            "execution_count": null,
            "id": "4cc8f89d",
            "metadata": {
                "trusted": true
            },
            "outputs": [],
            "source": "def subtract(num_1, num_2=5):\n\n    result = num_1 - num_2\n    \n    return result\n\nsubtract_res = subtract(num_1=2)\nprint(subtract_res)\n\nprint(subtract(2, 3))\nprint(subtract(9))\nprint(subtract(num_1=43, num_2=12))"
        },
        {
            "cell_type": "markdown",
            "id": "619333d7",
            "metadata": {},
            "source": "Hopefully you can see how default values are useful now, especially when you have a function being used many times. Default values are optional, use your best judgement to add them when they make sense for your function and the context it's being used."
        },
        {
            "cell_type": "markdown",
            "id": "596a8012",
            "metadata": {},
            "source": "## Scope\n\nNow that we're talking about input variables it's important to consider *scope*. This is the concept that **whatever happens in a function stays in a function unless returned**, but the opposite is not true. \n\nTake the demonstrations for example:"
        },
        {
            "cell_type": "code",
            "execution_count": null,
            "id": "760c7013",
            "metadata": {
                "trusted": true
            },
            "outputs": [],
            "source": "#Global scope: accessible to all\nglobal_scope_tester = \"foo\"\nprint(f\"Before function; outside of function scope: {global_scope_tester}\")\n\ndef print_scope():\n    print(f\"Inside function; outside of function scope: {global_scope_tester}\")\n\n    local_scope_tester = \"bar\"\n    print(f\"Inside function; inside of function scope: {local_scope_tester}\")\n\n    return None\n\nprint_scope()"
        },
        {
            "cell_type": "markdown",
            "id": "e80ff028",
            "metadata": {},
            "source": "We can see that global variables are accessible to:\n- Code outside of functions\n- Code inside functions without passing them as input \n  - (Warning: this is bad practice and should not be used often; leads to difficult testing and untraceable code)\n\n\nYou may notice that there is still a scenario missing: what if you try to print `local_scope_tester` outside of the function?\n\nTry to run the following:"
        },
        {
            "cell_type": "code",
            "execution_count": null,
            "id": "2e757ef4",
            "metadata": {
                "trusted": true
            },
            "outputs": [],
            "source": "print(f\"Inside function; outside of function scope: {local_scope_tester}\")"
        },
        {
            "cell_type": "markdown",
            "id": "c50daf18",
            "metadata": {},
            "source": "As you may have guessed, this code doesn't run. In fact, if you check carefully, you can see that the error type is a `NameError`, meaning that according to wherever the code is looking there isn't a variable named `local_scope_tester`. That variable is considered local to the function, and unless you return the value you can't access it outside of the function.\n\nHere's how to fix that:"
        },
        {
            "cell_type": "code",
            "execution_count": null,
            "id": "41d19ec7",
            "metadata": {
                "trusted": true
            },
            "outputs": [],
            "source": "#Global scope: accessible to all\nglobal_scope_tester = \"foo\"\nprint(f\"Defined before function; called outside of function scope: {global_scope_tester}\")\n\ndef print_scope():\n    print(f\"Defined inside function; called outside of function scope: {global_scope_tester}\")\n\n    local_scope_tester = \"bar\"\n    print(f\"Defined inside function; called inside of function scope: {local_scope_tester}\")\n\n    return local_scope_tester\n\nlocal_scope_tester = print_scope()\nprint(f\"Defined inside function; called outside of function scope: {local_scope_tester}\")"
        },
        {
            "cell_type": "markdown",
            "id": "3c256f31",
            "metadata": {},
            "source": "This is the motivation for returning values and writing organized input/output for your functions, keeping scopes and i/o organized leads to readable and consistent code with minimal errors."
        },
        {
            "cell_type": "markdown",
            "id": "62c5fe83",
            "metadata": {},
            "source": "## Docstrings\n\nYou can imagine that if you're writing a lot of functions that do a lot of different things just having the names be different might not be enough to easily figure out what you need quickly. Luckily there is a standardized solution to this: docstrings. These are little descriptor blocks below a function definition to clarify what a function does, what it's inputs/outputs are, and any other relevant information (such as stackoverflow citations!)\n\nThere are multiple docstring format standards, but I prefer the Google style. VSCode even has automatic docstring generators to make the process even easier. Here's the template for a Google style docstring:"
        },
        {
            "cell_type": "code",
            "execution_count": null,
            "id": "7884b543",
            "metadata": {
                "trusted": true
            },
            "outputs": [],
            "source": "def function_with_types_in_docstring(param1, param2):\n    \"\"\"Example function with types documented in the docstring.\n\n    General notes here\n\n    Args:\n        param1 (int): The first parameter.\n        param2 (str): The second parameter.\n\n    Returns:\n        bool: The return value. True for success, False otherwise.\n\n    .. Links:\n        https://www.python.org/dev/peps/pep-0484/\n\n    .. TODO\n        foo\n        bar\n\n    \"\"\""
        },
        {
            "cell_type": "markdown",
            "id": "a42d782c",
            "metadata": {},
            "source": "Note that these types of text blocks can be used for a script as well, so you can have consistently organized code from top to bottom.\n\nLet's go ahead and define all the other functions needed for our calculator with some basic docstrings to exemplify the process:"
        },
        {
            "cell_type": "code",
            "execution_count": null,
            "id": "6f85c87a",
            "metadata": {
                "trusted": true
            },
            "outputs": [],
            "source": "def add(num_1, num_2):\n    \"\"\"Add two numbers together.\"\"\"\n    result = num_1 + num_2\n    return result\n\n\ndef subtract(num_1, num_2):\n    \"\"\"\n    Subtract num_2 from num_1.\n\n    Args:\n        num_1 (Union[int, float]): Number to subtract from.\n        num_2 (Union[int, float]): Number to subtract with.\n\n    Returns:\n        Union[int, float]: Result of subtraction process.\n    \"\"\"\n    result = num_1 - num_2\n    return result\n\n\ndef multiply(num_1, num_2):\n    \"\"\"Multiply two values together, order doesn't matter.\"\"\"\n    return num_1 * num_2\n\n\ndef divide(num_1, num_2):\n    \"\"\"Wait, which number is the numerator and which is the denominator?\"\"\"\n    result = num_1 / num_2\n    return result\n\n\ndef exponent(num_1, num_2):\n    \"\"\"Take num_1 to the power of num_2\"\"\"\n    result = num_1 ** num_2\n    return result"
        },
        {
            "cell_type": "markdown",
            "id": "2cc412bf",
            "metadata": {},
            "source": "Now that we have all our components we can build the calculator, remember here is our function design:\n- **Input**: \n  - Mathematical operation\n  - Number 1\n  - Number 2\n- **Output**: \n  - Resulting value from operation\n- **Process (pseudocode)**:\n  - Check for inputted operation\n  - Calculate the operation using two inputted values\n  - Return resulting value\n\nKnowing that, we'll follow this design pretty closely:"
        },
        {
            "cell_type": "code",
            "execution_count": null,
            "id": "05dc1aef",
            "metadata": {
                "trusted": true
            },
            "outputs": [],
            "source": "def calculator(operation, num_1, num_2):\n    \"\"\"\n    Calculates a value given a mathematical operation and two values.\n\n    Args:\n        operation (str): Choice of [\"add\", \"subtract\", \"multiply\", \"divide\", \"exponent\"]\n        num_1 (Union[int, float]): Value 1\n        num_2 (Union[int, float]): Value 2\n\n    Returns:\n        Union[int, float]: Value returned from the desired math operation.\n    \"\"\"\n    if operation == \"add\":\n        res = add(num_1, num_2)\n    elif operation == \"subtract\":\n        res = subtract(num_1, num_2)\n    elif operation == \"multiply\":\n        res = multiply(num_1, num_2)\n    elif operation == \"divide\":\n        res = divide(num_1, num_2)\n    elif operation == \"exponent\":\n        res = exponent(num_1, num_2)\n    else:\n        print(\"Bad input\")\n        res = None\n\n    return res\n\ncalculator(\"sum\", 2, 4)"
        },
        {
            "cell_type": "markdown",
            "id": "dda388c7",
            "metadata": {},
            "source": "As you can see this function follows a pretty clear logic: depending on the desired operation it runs the function defined above with the given values, and then returns the value gotten from that. This is meant to demonstrate how functions can be run inside of functions and the results used within the external function. This structure can be done repeatedly for a nested structure, or you can design a process to use a flat structure where you minimally nest function calls. The theory behind which is better is hotly debated, but my rule of thumb is that as long as it follows a consistent logic and you document your functions well nesting can be a great way to chain operations together, such as above."
        },
        {
            "cell_type": "markdown",
            "id": "2d5482f0",
            "metadata": {},
            "source": "## Testing\n\nNow that we've completed our function it's time to test it. Testing is very underlooked in the world of scientific computing, but is arguably *more* important when dealing with high amounts of data and long workflows to ensure consistent results. \n\nIn Python testing is extremely straightforward with the `assert` command. This allows you to compare any two values, if they are the same it returns with a value of True, if not it returns a value of False. This allows us to test a given function by writing a \"unit test\" for the function, where we input a known value with a known outcome and test whether the function responds appropriately.\n\nHere is a basic example:"
        },
        {
            "cell_type": "code",
            "execution_count": null,
            "id": "e33ec90b",
            "metadata": {
                "trusted": true
            },
            "outputs": [],
            "source": "#Passes, nothing happens\nassert calculator(\"add\", 2, 2) == 4"
        },
        {
            "cell_type": "code",
            "execution_count": null,
            "id": "d80a0033",
            "metadata": {
                "trusted": true
            },
            "outputs": [],
            "source": "#Fails, raises an error\nassert calculator(\"add\", 2, 2) == 5"
        },
        {
            "cell_type": "markdown",
            "id": "d0ea0688",
            "metadata": {},
            "source": "As you can see when an assertion fails it raises a specific type of error called an `AssertionError`. If you don't want the program to proceed if the test fails, you can just let it error out. If you want to acknowledge it happened but keep going you can use something called a `try/catch` block, here's an example:"
        },
        {
            "cell_type": "code",
            "execution_count": null,
            "id": "5812e789",
            "metadata": {
                "trusted": true
            },
            "outputs": [],
            "source": "try:\n    assert calculator(\"add\", 2, 2) == 5\nexcept AssertionError:\n    print(\"Test failed!\")"
        },
        {
            "cell_type": "markdown",
            "id": "959a144a",
            "metadata": {},
            "source": "While this is handy for small situations, it's preferable to write unit tests for all functions and store them in separate modules for your code. While automated unit testing is outside of the scope of this lecture I highly recommend you read [this excellent tutorial on RealPython.](https://realpython.com/python-testing/) \n\nConsistent and robust unit testing will not only save your code from silently producing erroneous results, it will ensure your code is reproducible even if you make changes."
        },
        {
            "cell_type": "markdown",
            "id": "0611590d",
            "metadata": {},
            "source": "## Exercises\nThe following exercises will help you better understand functions, scope, and testing\n\n1. Write a function that; given two positional args in first and second position, returns them in the opposite order, i.e. second then first"
        },
        {
            "cell_type": "code",
            "execution_count": null,
            "id": "ff85da88",
            "metadata": {
                "trusted": true
            },
            "outputs": [],
            "source": "# Question 1 code here\ndef swapper(v1, v2):\n    return v2, v1"
        },
        {
            "cell_type": "markdown",
            "id": "2cb47e2c",
            "metadata": {},
            "source": "2. We have a list of oligonucleotides that we want to find the reverse complements of. Write a function that takes as input a DNA string and returns its reverse complement, and then run it on the following list of oligos:"
        },
        {
            "cell_type": "code",
            "execution_count": 6,
            "id": "f8d7536e",
            "metadata": {
                "trusted": true
            },
            "outputs": [
                {
                    "name": "stdout",
                    "output_type": "stream",
                    "text": "CGGTGTCCTCGTGAATG\nCGTAGGACATACAGC\nGCGTTACATTCTGGCC\nCTAATCTCACGCATACCTATGACAT\nAAACCTAGATACA\n"
                }
            ],
            "source": "oligo_list = [\n    'CATTCACGAGGACACCG',\n    'GCTGTATGTCCTACG',\n    'GGCCAGAATGTAACGC',\n    'ATGTCATAGGTATGCGTGAGATTAG',\n    'TGTATCTAGGTTT'\n]\n\n\ndef get_reverse_complement(dna):\n    nuc_dict = {'A': 'T', 'T': 'A', 'C': 'G', 'G': 'C'}\n    rev_comp_dna = ''\n    for nuc in dna[::-1]:\n        rev_comp_dna += nuc_dict[nuc]\n    return rev_comp_dna\n\n\nfor oligo in oligo_list:\n    print(get_reverse_complement(oligo))"
        },
        {
            "cell_type": "markdown",
            "id": "47955011",
            "metadata": {},
            "source": "3. Write 2-3 assertions to ensure that `get_reverse_complement` is working correctly."
        },
        {
            "cell_type": "code",
            "execution_count": 8,
            "id": "9449bf96",
            "metadata": {
                "trusted": true
            },
            "outputs": [],
            "source": "assert get_reverse_complement('ACAT') == 'ATGT'\nassert get_reverse_complement('TTTCCCGGG') == 'CCCGGGAAA'\nassert get_reverse_complement('GCGCGCGCG') == 'CGCGCGCGC'"
        },
        {
            "cell_type": "markdown",
            "id": "03b00ce3",
            "metadata": {},
            "source": "4. You are performing a screen where you need to generate a large library of random oligos between 13-25 nucleotides in length. Write a function that takes the desired length of oligo as input and returns a random oligo.\n\nHint: the following functions from the `random` library may come in handy:\n\n    - random.randint \n    - random.choices\n\nLook up the doc strings to see how to use them."
        },
        {
            "cell_type": "code",
            "execution_count": 12,
            "id": "8fe19826",
            "metadata": {
                "trusted": true
            },
            "outputs": [
                {
                    "name": "stdout",
                    "output_type": "stream",
                    "text": "['AATTTGCATAGTGCCGGACTCCCT', 'GCTAAATGACCTGATTGGGGT', 'TTACCCAAGAGCCATCTGATAAG', 'CGTCAACAGCTAGC', 'GCGTGAAGGGCACGGGTGCCAG']\n"
                }
            ],
            "source": "import random\n\n\ndef create_random_oligo(oligo_len=None, min_len=13, max_len=25):\n    nuc_lib = ['A', 'T', 'C', 'G']\n    if oligo_len is None:\n        oligo_len = random.randint(min_len, max_len)\n    elif oligo_len < min_len or oligo_len > max_len:\n        raise ValueError('oligo_len must be within specified range')\n    nuc_list = random.choices(nuc_lib, k=oligo_len)\n    return ''.join(nuc_list)\n\n\nprint([create_random_oligo() for i in range(5)])"
        },
        {
            "cell_type": "markdown",
            "id": "a8acc6ef",
            "metadata": {},
            "source": "5. Write a better docstring for the `divide()` function defined earlier"
        },
        {
            "cell_type": "code",
            "execution_count": null,
            "id": "c521a07a",
            "metadata": {
                "trusted": true
            },
            "outputs": [],
            "source": "# Question 2 code here\ndef divide(num_1, num_2):\n    \"\"\"\n    Divides num_1 by num_2.\n\n    Args:\n        num_1 (int/float): Numerator\n        num_2 (int/float): Denominator\n\n    Returns:\n        int/float: Result of division.\n    \"\"\"\n    result = num_1 / num_2\n    return result"
        },
        {
            "cell_type": "markdown",
            "id": "78a1dee5",
            "metadata": {},
            "source": "6. Write a function that prints a subtracts a global variable from a local variable and returns the result, print said result"
        },
        {
            "cell_type": "code",
            "execution_count": null,
            "id": "a8de9567",
            "metadata": {
                "trusted": true
            },
            "outputs": [],
            "source": "# Question 3 code here\n\nval_1 = 5\n\ndef global_sub(val_2):\n    return val_2 - val_1\n\nglobal_sub(8)"
        },
        {
            "cell_type": "markdown",
            "id": "6d3fa11f",
            "metadata": {},
            "source": "7. Write a unit test for any of the calculator sub-functions above, write a conditional print statement based on the output as demonstrated above"
        },
        {
            "cell_type": "code",
            "execution_count": null,
            "id": "cc88b3e9",
            "metadata": {
                "trusted": true
            },
            "outputs": [],
            "source": "# Question 4 code here\nfor test in [2, 3]:\n    try:\n        print(f\"Testing value: {test}\")\n        assert subtract(4,2) == test\n        print(\"Passed!\\n\")\n    except AssertionError:\n        print(f\"Didn't work with {test}!\\n\")"
        }
    ],
    "metadata": {
        "kernelspec": {
            "display_name": "cd8_differentiation",
            "language": "python",
            "name": "cd8_differentiation"
        },
        "language_info": {
            "codemirror_mode": {
                "name": "ipython",
                "version": 3
            },
            "file_extension": ".py",
            "mimetype": "text/x-python",
            "name": "python",
            "nbconvert_exporter": "python",
            "pygments_lexer": "ipython3",
            "version": "3.10.12"
        }
    },
    "nbformat": 4,
    "nbformat_minor": 5
}