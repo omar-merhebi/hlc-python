{
 "cells": [
  {
   "attachments": {},
   "cell_type": "markdown",
   "metadata": {},
   "source": [
    "[![Open In Colab](https://colab.research.google.com/assets/colab-badge.svg)](https://colab.research.google.com/github/omar-merhebi/hlc-python/blob/master/Lesson_1_Basics/Lesson_1.ipynb)"
   ]
  },
  {
   "attachments": {},
   "cell_type": "markdown",
   "metadata": {},
   "source": [
    "# Lesson 1 - Basic Introduction to Programming in Python : Operators and Data Types"
   ]
  },
  {
   "attachments": {},
   "cell_type": "markdown",
   "metadata": {},
   "source": [
    "### Learning objectives\n",
    "\n",
    "Students will gain an introduction to programming in python, working in interactive notebooks, and learning how to leverage outside resources for coding help. Moreoever students will gain a basic understanding of variables, data types, and working with simple expressions for comparison and computation.\n",
    "\n",
    "* [Basic math operators: +, -, *, /, **](#math)\n",
    "* [Use of the assignment operator (=)](#assign)\n",
    "* [Data types: integer, float, string, boolean](#data)\n",
    "* [Basic functions: print(), type(), int(), float(), str(), bool()](#function)\n",
    "* [Comparison operators: >, <, ==, >=, <=](#compare)\n",
    "* [In Class Exercises](#homework)"
   ]
  },
  {
   "attachments": {},
   "cell_type": "markdown",
   "metadata": {},
   "source": [
    "#### Basic Introduction to Programming in Python <a id='program'></a>"
   ]
  },
  {
   "attachments": {},
   "cell_type": "markdown",
   "metadata": {},
   "source": [
    "Python is a general purpose programming language that is widely used in scientific computing, image analysis, machine learning etc. It allows you to specify a set of instructions, written as a script or a program, to execute some task of interest. \n",
    "\n",
    "* Have any of you used a script before? What did you do to run it? What was the purpose of the script? Did it aid in reproducibility? Was it quicker to run or modify than calculating things individually by hand? \n",
    "\n",
    "The purpose of this series of python workshops is not to give you an extensive in depth overview of everything you can do in python. However, we do aim to give you all the skills and terminology necessary to **learn** how to learn to code in python. Google, [stack overflow](https://stackoverflow.com/), and [github issues](https://github.com/)) are invaluable tools you can use to your advantage for (1) gaining coding help and (2) learning how to write code from reading code."
   ]
  },
  {
   "attachments": {},
   "cell_type": "markdown",
   "metadata": {},
   "source": [
    "#### Introduction to Jupyter Notebooks and Google Colab <a id='jupyter'></a>"
   ]
  },
  {
   "attachments": {},
   "cell_type": "markdown",
   "metadata": {},
   "source": [
    "\"The Jupyter Notebook is an incredibly powerful tool for interactively developing and presenting data science projects. A notebook integrates code and its output into a single document that combines visualizations, narrative text, mathematical equations, and other rich media. The intuitive workflow promotes iterative and rapid development, making notebooks an increasingly popular choice at the heart of contemporary data science, analysis, and increasingly science at large. \" - [dataquest](https://www.dataquest.io/blog/jupyter-notebook-tutorial/)\n",
    "\n",
    "All of our lessons will be presented in Jupyter notebooks due to their interactive nature (.ipynb file extension). They consist of two main attributes, a `kernel` and `cells`. \n",
    "* A `kernel` interprets and executes the code. Here we are using the kernel for python; however, you can specify a kernel for another language like R. \n",
    "* A `cell` is a container for either text or code to be executed. \n",
    "\n",
    "To run the python code in a cell, you just hit shift + enter. Try it with the code below."
   ]
  },
  {
   "cell_type": "code",
   "execution_count": null,
   "metadata": {},
   "outputs": [],
   "source": [
    "print('hello world')"
   ]
  },
  {
   "attachments": {},
   "cell_type": "markdown",
   "metadata": {},
   "source": [
    "#### Basic math operators: +, -, *, /, ** <a id='math'></a>\n",
    "\n",
    "The simplest way we can use python is to use is as a calculator!  You can use python to do addition, subtraction, division, multiplication, and exponentiation. Let's walk through some simple math calculations. \n",
    "\n",
    "$$ 2 + 3 $$"
   ]
  },
  {
   "cell_type": "code",
   "execution_count": null,
   "metadata": {},
   "outputs": [],
   "source": []
  },
  {
   "attachments": {},
   "cell_type": "markdown",
   "metadata": {},
   "source": [
    "$$ \\frac{6}{2} * 20 - 100 $$"
   ]
  },
  {
   "cell_type": "code",
   "execution_count": null,
   "metadata": {},
   "outputs": [],
   "source": []
  },
  {
   "attachments": {},
   "cell_type": "markdown",
   "metadata": {},
   "source": [
    "$$ 2^{8} $$"
   ]
  },
  {
   "cell_type": "code",
   "execution_count": null,
   "metadata": {},
   "outputs": [],
   "source": []
  },
  {
   "attachments": {},
   "cell_type": "markdown",
   "metadata": {},
   "source": [
    "* Was the above result what you expected? If you used `^` then your result was 10; however, if you used `**` then your result was 256. This demonstrates why it's important to check the answers you get from your code to make sure the results seem reasonable. You might not always get an error when your code is incorrect :)  "
   ]
  },
  {
   "attachments": {},
   "cell_type": "markdown",
   "metadata": {},
   "source": [
    "#### Use of the assignment operator (=) <a id='assign'></a>\n",
    "\n",
    "What if you want to store some value (like the result of the above calculation) and use it for another task later? Here, you can assign it to a variable with the assignment operator `=`. \n",
    "\n",
    "For example, let's assign the value 22 to variable `x` as, "
   ]
  },
  {
   "cell_type": "code",
   "execution_count": null,
   "metadata": {},
   "outputs": [],
   "source": [
    "x = 22"
   ]
  },
  {
   "attachments": {},
   "cell_type": "markdown",
   "metadata": {},
   "source": [
    "Notice that the code above did not return any result. That's because it is now stored in the variable called `x`!"
   ]
  },
  {
   "cell_type": "code",
   "execution_count": null,
   "metadata": {},
   "outputs": [],
   "source": [
    "x"
   ]
  },
  {
   "attachments": {},
   "cell_type": "markdown",
   "metadata": {},
   "source": [
    "Try assigning the values 1, 2, and 3 to the variables `x`, `y`, and `z` respectively. "
   ]
  },
  {
   "cell_type": "code",
   "execution_count": null,
   "metadata": {},
   "outputs": [],
   "source": []
  },
  {
   "attachments": {},
   "cell_type": "markdown",
   "metadata": {},
   "source": [
    "If you'd like to see what the values of the variables were, you can use the `print()` function. Here, the input of the function (what goes inside the parantheses) is whatever you'd like to display to the terminal. "
   ]
  },
  {
   "cell_type": "code",
   "execution_count": null,
   "metadata": {},
   "outputs": [],
   "source": [
    "# Print x, y, and z "
   ]
  },
  {
   "attachments": {},
   "cell_type": "markdown",
   "metadata": {},
   "source": [
    "Once you have variables assigned, you can use them to do basic operations. For example, try calculating the following. Be sure to use the assingment operator when necessary and print your results to check that they make sense. \n",
    "\n",
    "1. Assign the variable `a` as the result of $4 + 5*2$\n",
    "2. Compute $5 + a$\n",
    "3. Assign the variable b as the result of $\\frac{a}{2.5}$"
   ]
  },
  {
   "cell_type": "code",
   "execution_count": null,
   "metadata": {},
   "outputs": [],
   "source": [
    "# Do the above operations "
   ]
  },
  {
   "attachments": {},
   "cell_type": "markdown",
   "metadata": {},
   "source": [
    "**Of note**, you can name a variable anything you'd like (although it's best to be descriptive for you and others who will end up reading your code). However, a variable name must start with a letter and *not* a number. For fun, try assigning the value 3 as the variable `1variable` and see what the result is."
   ]
  },
  {
   "cell_type": "code",
   "execution_count": null,
   "metadata": {},
   "outputs": [],
   "source": [
    "# Improper variable name \n"
   ]
  },
  {
   "attachments": {},
   "cell_type": "markdown",
   "metadata": {},
   "source": [
    "#### Data types: integer, float, string, boolean <a id='data'></a>\n",
    "\n",
    "Programming languages often include different data types that can be used for different tasks (e.g. arithmetic, comparison, debugging etc.). Here we'll discuss four of the most common types:\n",
    "1. *integer*: whole number\n",
    "2. *float*: decimal number\n",
    "3. *string*: text\n",
    "4. *boolean*: True or False"
   ]
  },
  {
   "attachments": {},
   "cell_type": "markdown",
   "metadata": {},
   "source": [
    "**Integers** <br>\n",
    "\n",
    "Integers are positive or negative whole numbers with no decimals. We've already been using them it today's lesson. For example, print the variables `x`, `y`, `z`, and `a`."
   ]
  },
  {
   "cell_type": "code",
   "execution_count": null,
   "metadata": {},
   "outputs": [],
   "source": [
    "# Print x, y, z, and a "
   ]
  },
  {
   "attachments": {},
   "cell_type": "markdown",
   "metadata": {},
   "source": [
    "**Floats** <br>\n",
    "\n",
    "Floats, short for floating point real values, are positive or negative numbers with decimals. As with integers, you can use them to do arithmetic or assign them to variables. Try defining and printing the following expressions.  \n",
    "\n",
    "* f1 assigned to value 4.5 \n",
    "* f2 assigned to value -3.0\n",
    "* f1 + f2"
   ]
  },
  {
   "cell_type": "code",
   "execution_count": null,
   "metadata": {},
   "outputs": [],
   "source": [
    "# Perform the above operations "
   ]
  },
  {
   "attachments": {},
   "cell_type": "markdown",
   "metadata": {},
   "source": [
    "**Strings** <br>\n",
    "\n",
    "Strings refer to text (ie they're a series of characters) and can be (1) assigned to variables for data manipulation or (2) can be used in print statements for debugging or monitoring tasks. You define them by placing the text within single or double quotation marks as, "
   ]
  },
  {
   "cell_type": "code",
   "execution_count": null,
   "metadata": {},
   "outputs": [],
   "source": [
    "oligo1 = 'GCGCTCAAT'\n",
    "oligo2 = 'TACTAGGCA'\n",
    "print(oligo1, oligo2)\n",
    "print('string variable 1 is', oligo1)"
   ]
  },
  {
   "cell_type": "markdown",
   "metadata": {},
   "source": [
    "We can actually do some basic arithmetic operations to strings:"
   ]
  },
  {
   "cell_type": "code",
   "execution_count": null,
   "metadata": {},
   "outputs": [],
   "source": [
    "a = 'A'\n",
    "b = 'B'\n",
    "\n",
    "# Try adding a and b (remember to print!)\n",
    "\n",
    "# Now try multiplying a by 10"
   ]
  },
  {
   "attachments": {},
   "cell_type": "markdown",
   "metadata": {},
   "source": [
    "**Booleans** <br>\n",
    "\n",
    "Booleans are either `True` or `False`. Note the capitilization of the first letter. They are often used for comparisons (e.g. the output of $1 > 2$ would result in `False`). Additionally, it's important to note that True behaves as 1 and False behaves as 0 in arithmetic operations. "
   ]
  },
  {
   "cell_type": "code",
   "execution_count": null,
   "metadata": {},
   "outputs": [],
   "source": [
    "t = True\n",
    "f = False\n",
    "\n",
    "print(t)\n",
    "print(f)"
   ]
  },
  {
   "cell_type": "code",
   "execution_count": null,
   "metadata": {},
   "outputs": [],
   "source": [
    "# What happens if you do 2 * True and 2 * False?"
   ]
  },
  {
   "attachments": {},
   "cell_type": "markdown",
   "metadata": {},
   "source": [
    "#### Comparison operators: >, <, ==, >=, <= <a id='compare'></a>\n",
    "\n",
    "Comparison operators (>, <, ==, >=, <=) can be used to compare two or more variables. The output of the comparison is a Boolean (ie `True` or `False`). Therefore, we often use comparison operators to set up condition statements (e.g. if this comparison statement is True, then do this task. If it is False, then do something else). You'll learn more about condition statements and control in Lesson 2. \n",
    "\n",
    "Let's set up a few comparisons and use print statements to see the results. \n",
    "\n",
    "$$ 2 > 1.5 $$\n",
    "$$ 4 <= 2 $$\n",
    "$$ 5 == 5.0 $$\n",
    "$$ 6 >= 6 $$\n",
    "$$ 7.4 < 3 $$"
   ]
  },
  {
   "cell_type": "code",
   "execution_count": null,
   "metadata": {},
   "outputs": [],
   "source": [
    "# Perform the above comparisons"
   ]
  },
  {
   "attachments": {},
   "cell_type": "markdown",
   "metadata": {},
   "source": [
    "#### Basic functions: type(), int(), float(), str(), bool()  <a id='function'></a>"
   ]
  },
  {
   "attachments": {},
   "cell_type": "markdown",
   "metadata": {},
   "source": [
    "We've already started using one basic function, `print()`. Each function has a goal and does a task. How it works is it takes whatever is specified within the parantheses (the arguments), performs the task, and then outputs the results. Functions are extraordinarily useful for reproducible code and you'll learn more about them in Lesson 3. \n",
    "\n",
    "For now, let's explore some other basic functions. The function `type()` returns the data type of the argument you give it. See the example below."
   ]
  },
  {
   "cell_type": "code",
   "execution_count": null,
   "metadata": {},
   "outputs": [],
   "source": [
    "type(2.1)"
   ]
  },
  {
   "cell_type": "code",
   "execution_count": null,
   "metadata": {},
   "outputs": [],
   "source": [
    "# Print the type of a string"
   ]
  },
  {
   "cell_type": "code",
   "execution_count": null,
   "metadata": {},
   "outputs": [],
   "source": [
    "# Print the type of an integer"
   ]
  },
  {
   "cell_type": "code",
   "execution_count": null,
   "metadata": {},
   "outputs": [],
   "source": [
    "# Print the type of a boolean"
   ]
  },
  {
   "attachments": {},
   "cell_type": "markdown",
   "metadata": {},
   "source": [
    "There are other useful functions that let you specify the data type or coerce the data type into another. `int()`, `float()`, `bool()`, and `str()` let you specify data as an integer, float, boolean, or string. Let's take a look at how this works for the `int()` and `str()` functions."
   ]
  },
  {
   "cell_type": "code",
   "execution_count": null,
   "metadata": {},
   "outputs": [],
   "source": [
    "# Try using the int() function to convert the float 2.9 to an integer"
   ]
  },
  {
   "cell_type": "code",
   "execution_count": null,
   "metadata": {},
   "outputs": [],
   "source": [
    "# Now try converting the integer 20 to a float and then a string"
   ]
  },
  {
   "cell_type": "code",
   "execution_count": null,
   "metadata": {},
   "outputs": [],
   "source": [
    "# Finally, convert both booleans into integers. "
   ]
  },
  {
   "attachments": {},
   "cell_type": "markdown",
   "metadata": {},
   "source": [
    "#### In Class Exercises <a id='homework'></a>\n",
    "\n",
    "The following exercises will help you understand the concepts taught in this lesson better.\n",
    "\n",
    "1. Like in algebra, parentheses can be used to specify the order of operations. What would you expect to be the result of the following expressions? (Try to predict the answer before checking your answers in python.)\n",
    "$$1 + 3*3$$\n",
    "$$(1 + 3)*3$$\n",
    "$$(4*4) + 5$$\n",
    "$$1 > 3$$\n",
    "$$\"1\" > \"3\"$$\n",
    "$$14 >= 2*7$$\n",
    "$$0 == \\mathrm{False}$$\n",
    "$$\\mathrm{True} == 1^{0}$$\n",
    "$$\\mathrm{int}(\\mathrm{True}) == \\mathrm{str}(1^{0})$$\n",
    "$$\\mathrm{float(\"one\")}$$\n",
    "\n",
    "2. Create two new variables, comp_oligo1 and comp_oligo2, that are the complementary DNA sequences of oligo1 and oligo2 (hint: A <-> T and G <-> C)\n",
    "\n",
    "3. Compute the melting temperature of oligo1 and oligo2 using the following equation: $$\\mathrm{T_{m}} = 2(\\mathrm{A} + \\mathrm{T}) + 4(\\mathrm{G} + \\mathrm{C})$$ where A, T, G, and C refer to the number of A, T, G, C nucleotides in the primer. "
   ]
  },
  {
   "cell_type": "code",
   "execution_count": null,
   "metadata": {},
   "outputs": [],
   "source": [
    "# Question 1"
   ]
  },
  {
   "cell_type": "code",
   "execution_count": null,
   "metadata": {},
   "outputs": [],
   "source": [
    "# Question 2"
   ]
  },
  {
   "cell_type": "code",
   "execution_count": null,
   "metadata": {},
   "outputs": [],
   "source": [
    "# Question 3"
   ]
  },
  {
   "cell_type": "markdown",
   "metadata": {},
   "source": [
    "#### Data Structures: Lists and Tuples  <a id='lists_and_tuples'></a>"
   ]
  },
  {
   "cell_type": "markdown",
   "metadata": {},
   "source": [
    "Now let's look at how we can store data in more complex ways called data structures. "
   ]
  },
  {
   "cell_type": "markdown",
   "metadata": {},
   "source": [
    "##### Lists \n",
    "\n",
    "The first type of data structure we will introduce is a list. \n",
    "\n",
    "A list is a data structure that holds an ordered collection of items i.e. you can store a sequence of items in a list. This is easy to imagine if you can think of a shopping list where you have a list of items to buy, except that you probably have each item on a separate line in your shopping list whereas in Python you put commas in between them.\n",
    "\n",
    "Here are important properties of lists:\n",
    "\n",
    "* Lists are ordered – Lists remember the order of items inserted.\n",
    "* Accessed by index – Items in a list can be accessed using an index.\n",
    "* Lists can contain any sort of object – It can be numbers, strings, tuples and even other lists (although this is not advised and is generally considered bad form).\n",
    "* Lists are changeable (mutable) – You can change a list in-place, add new items, and delete or update existing items.\n",
    "\n",
    "In Python, a list is created by placing elements inside square brackets `[]`, separated by commas. \n",
    "\n",
    "Let's create a list containing these fruits for your shopping list:\n",
    "- mango\n",
    "- kiwi\n",
    "- pear\n",
    "- lychee\n",
    "- watermelon"
   ]
  },
  {
   "cell_type": "code",
   "execution_count": null,
   "metadata": {},
   "outputs": [],
   "source": [
    "# Create a list and store it in a variable named fruits\n",
    "\n",
    "# print the list and its type() below:"
   ]
  },
  {
   "cell_type": "markdown",
   "metadata": {},
   "source": [
    "We can get the length of a list by passing to the `len()` function. Get the length of fruits below:"
   ]
  },
  {
   "cell_type": "code",
   "execution_count": null,
   "metadata": {},
   "outputs": [],
   "source": [
    "# Length of fruits"
   ]
  },
  {
   "cell_type": "markdown",
   "metadata": {},
   "source": [
    "##### List Operations\n",
    "\n",
    "We can manipulate lists as well as extract their contents. Let's first see how we can access elements of a list through indexing. We use the name of the list followed by square brackes `[]` with an integer inside of them to indicate the index of the item we want to get. Note that Python indices start at 0, so your first item has an index of 0, your second item has an index of 1, and so on..."
   ]
  },
  {
   "cell_type": "markdown",
   "metadata": {},
   "source": [
    "![indexing](https://cdn.programiz.com/sites/tutorial2program/files/python-list-index.png)"
   ]
  },
  {
   "cell_type": "markdown",
   "metadata": {},
   "source": [
    "As you can see from the above, we can also index backwards using negative values. "
   ]
  },
  {
   "cell_type": "code",
   "execution_count": null,
   "metadata": {},
   "outputs": [],
   "source": [
    "# As a reminder the list we just created is printed below:\n",
    "\n",
    "print(fruits)"
   ]
  },
  {
   "cell_type": "code",
   "execution_count": null,
   "metadata": {},
   "outputs": [],
   "source": [
    "# How would you get the first element of this list?"
   ]
  },
  {
   "cell_type": "code",
   "execution_count": null,
   "metadata": {},
   "outputs": [],
   "source": [
    "# Now try to get the last element in two different ways (hint use a positive index of one and a negative index for the other)"
   ]
  },
  {
   "cell_type": "code",
   "execution_count": null,
   "metadata": {},
   "outputs": [],
   "source": [
    "# Finally, get use indexing to extract 'pear' from the list"
   ]
  },
  {
   "cell_type": "markdown",
   "metadata": {},
   "source": [
    "We can also replace items in a list by assigning them to the index like we do with variables:"
   ]
  },
  {
   "cell_type": "code",
   "execution_count": null,
   "metadata": {},
   "outputs": [],
   "source": [
    "# Assign here\n",
    "\n",
    "# Now change it back"
   ]
  },
  {
   "cell_type": "markdown",
   "metadata": {},
   "source": [
    "In indexing, we can define ranges of items we want to get. This is called slicing and will get us a second list of just those items. To do this we put a colon `:` between the index of the first element we want to get and the index of the last element PLUS ONE. Python exlcudes the last index when slicing."
   ]
  },
  {
   "cell_type": "code",
   "execution_count": null,
   "metadata": {},
   "outputs": [],
   "source": [
    "print(fruits)"
   ]
  },
  {
   "cell_type": "markdown",
   "metadata": {},
   "source": [
    "If we wanted to get kiwi through lychee, we would go from index 1 to index 4: "
   ]
  },
  {
   "cell_type": "code",
   "execution_count": null,
   "metadata": {},
   "outputs": [],
   "source": [
    "print(fruits[1:4])"
   ]
  },
  {
   "cell_type": "code",
   "execution_count": null,
   "metadata": {},
   "outputs": [],
   "source": [
    "# Now try to get the elements mango through pear"
   ]
  },
  {
   "cell_type": "markdown",
   "metadata": {},
   "source": [
    "One clever way to slice, if you want to start from the beginning or go to the end of a list is to leave the index blank before or after the `:`. For example, if I want the first two elements (mango and kiwi):"
   ]
  },
  {
   "cell_type": "code",
   "execution_count": null,
   "metadata": {},
   "outputs": [],
   "source": [
    "print(fruits[:2])"
   ]
  },
  {
   "cell_type": "code",
   "execution_count": null,
   "metadata": {},
   "outputs": [],
   "source": [
    "# Can you think of how we could get the last three elements?"
   ]
  },
  {
   "cell_type": "markdown",
   "metadata": {},
   "source": [
    "Note that indexing and slicing like this also works with strings. In fact, strings can be easily converted to lists as well:"
   ]
  },
  {
   "cell_type": "code",
   "execution_count": 23,
   "metadata": {},
   "outputs": [],
   "source": [
    "# Get the fourth letter of the string \"mango\" defined below\n",
    "\n",
    "mango = 'mango'"
   ]
  },
  {
   "cell_type": "code",
   "execution_count": null,
   "metadata": {},
   "outputs": [],
   "source": [
    "# To convert a string to a list, use the list() function on the string above"
   ]
  },
  {
   "cell_type": "markdown",
   "metadata": {},
   "source": [
    "**Note**: indexing and slicing are confusing at first. Many beginner Python coders (and even coders who learn Python having learned other languages) struggle with these concepts in the beginning. Just keep practicing and you **will** get the hang of it, promise :)"
   ]
  },
  {
   "cell_type": "markdown",
   "metadata": {},
   "source": [
    "We said that lists are mutable, but what does this mean exactly? It means that we can dynamically add or remove items, change the order of the list, without having to create a new list. It will modify the list <i>in place</i>. Here are some in-place operations for lists (let's say our list is called shopping_list):"
   ]
  },
  {
   "cell_type": "markdown",
   "metadata": {},
   "source": [
    "- `shopping_list.append('bread')` - this appends the string `'bread'` to the list `shopping_list` at the end of the list.\n",
    "- `shopping_list.remove('bread')` - this will remove the string `'bread'` from the list. If the item was in the middle of the list, it would shift the indices of items that come after it.\n",
    "- `shopping_list.count('milk')` - this counts how many times the string `'milk'` appears in the list. \n",
    "- `shopping_list.sort()` - This sorts the list. If the list contains strings, it will sort those alphabetically. Integers will be sorted based on their value in ascending order. Lists of mixed types (again, not recommended) will result in an error."
   ]
  },
  {
   "cell_type": "code",
   "execution_count": null,
   "metadata": {},
   "outputs": [],
   "source": [
    "# An example trying to sort a mixed list:\n",
    "mixed_list = ['mango', 2000, 40, 'kiwi', 'watermelon', True]\n",
    "\n",
    "print(mixed_list)\n",
    "\n",
    "mixed_list.sort()\n",
    "\n",
    "print(mixed_list)"
   ]
  },
  {
   "cell_type": "code",
   "execution_count": null,
   "metadata": {},
   "outputs": [],
   "source": [
    "# Now try adding any fruit to your fruit list (remember to print!)"
   ]
  },
  {
   "cell_type": "code",
   "execution_count": null,
   "metadata": {},
   "outputs": [],
   "source": [
    "# Try removing one of the other fruits"
   ]
  },
  {
   "cell_type": "code",
   "execution_count": null,
   "metadata": {},
   "outputs": [],
   "source": [
    "# Now count how many times the fruit you added in the first step appears in the list"
   ]
  },
  {
   "cell_type": "code",
   "execution_count": null,
   "metadata": {},
   "outputs": [],
   "source": [
    "# Now count how many times the fruit you removed appears in the list"
   ]
  },
  {
   "cell_type": "markdown",
   "metadata": {},
   "source": [
    "Note that these in place operations do not output anything like the other functions we've seen. This is because they simply modify the list and don't output a new one."
   ]
  },
  {
   "cell_type": "code",
   "execution_count": null,
   "metadata": {},
   "outputs": [],
   "source": [
    "print(fruits.sort())"
   ]
  },
  {
   "cell_type": "markdown",
   "metadata": {},
   "source": [
    "What if we didn't want to modify our original list, but wanted to create a new list? There are some functions that will do this:\n",
    "\n",
    "- `sorted(shopping_list)` - this will create a new list that's a sorted version of the list `shopping_list`\n",
    "- `list(reversed(shopping_list))` - this will create a new list that has the opposite order of the list `shopping_list`"
   ]
  },
  {
   "cell_type": "code",
   "execution_count": null,
   "metadata": {},
   "outputs": [],
   "source": [
    "# Challenge: create a new list that's a copy of fruits but in reverse alphabetical order."
   ]
  },
  {
   "cell_type": "markdown",
   "metadata": {},
   "source": [
    "#### Tuples\n",
    "\n",
    "Tuples are very similar to lists, and there is really only one difference. They are **immutable**, meaning they cannot be modified once they are created. Tuples are created with parentheses instead of square brackets `()`. "
   ]
  },
  {
   "cell_type": "code",
   "execution_count": null,
   "metadata": {},
   "outputs": [],
   "source": [
    "# Try creating a new tuple named vegetables and give it three vegetable names: carrot, kale, zucchini\n"
   ]
  },
  {
   "cell_type": "markdown",
   "metadata": {},
   "source": [
    "Similarly to lists, we can get the length of tuples and we can index them (we still use square brackets to index `[]`). Try the exercises below:"
   ]
  },
  {
   "cell_type": "code",
   "execution_count": null,
   "metadata": {},
   "outputs": [],
   "source": [
    "# Get the length of the tuple\n",
    "\n",
    "# Get the last two elements of the tuple"
   ]
  },
  {
   "cell_type": "markdown",
   "metadata": {},
   "source": [
    "But, we can't make any modifications. Try setting index 0 to something new:"
   ]
  },
  {
   "cell_type": "code",
   "execution_count": null,
   "metadata": {},
   "outputs": [],
   "source": [
    "# Set index 0 to something new"
   ]
  },
  {
   "cell_type": "markdown",
   "metadata": {},
   "source": [
    "See how Python tells you that is operation is not allowed?"
   ]
  },
  {
   "cell_type": "markdown",
   "metadata": {},
   "source": [
    "As an aside, lists can be easily converted to tuples and vice verse by passing them to the `tuple()` and `list()` function, respectively:"
   ]
  },
  {
   "cell_type": "code",
   "execution_count": null,
   "metadata": {},
   "outputs": [],
   "source": [
    "fruits_tuple = tuple(fruits)\n",
    "\n",
    "print(fruits_tuple)\n",
    "\n",
    "vegetables_list = list(vegetables)\n",
    "\n",
    "print(vegetables_list)"
   ]
  },
  {
   "cell_type": "markdown",
   "metadata": {},
   "source": [
    "That's all for now! Next time, we will pick up with two new data strucutres: sets and dictionaries, as well as control flows. "
   ]
  }
 ],
 "metadata": {
  "interpreter": {
   "hash": "c4d4cf0f866ef5d608adbb3b8114bb30b4107b67947e423d500be3fa738ca8f5"
  },
  "kernelspec": {
   "display_name": "Python 3",
   "language": "python",
   "name": "python3"
  },
  "language_info": {
   "codemirror_mode": {
    "name": "ipython",
    "version": 3
   },
   "file_extension": ".py",
   "mimetype": "text/x-python",
   "name": "python",
   "nbconvert_exporter": "python",
   "pygments_lexer": "ipython3",
   "version": "3.10.0"
  }
 },
 "nbformat": 4,
 "nbformat_minor": 4
}
