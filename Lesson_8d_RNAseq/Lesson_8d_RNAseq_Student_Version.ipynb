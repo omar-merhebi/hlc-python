{
 "cells": [
  {
   "attachments": {},
   "cell_type": "markdown",
   "metadata": {},
   "source": [
    "[![Open In Colab](https://colab.research.google.com/assets/colab-badge.svg)](https://colab.research.google.com/github/omar-merhebi/hlc-python/blob/master/Lesson_8d_RNAseq/Lesson_8d_RNAseq_Student_Version.ipynb)"
   ]
  },
  {
   "attachments": {},
   "cell_type": "markdown",
   "metadata": {},
   "source": [
    "# Lesson 8d - Basic RNAseq Analysis"
   ]
  },
  {
   "attachments": {},
   "cell_type": "markdown",
   "metadata": {},
   "source": [
    "### Learning objectives\n",
    "\n",
    "Work through some more advanced data manipulation and analyses, working with a normalized RNAseq matrix and it's metadata.\n"
   ]
  },
  {
   "cell_type": "code",
   "outputs": [],
   "source": [
    "import pandas as pd\n",
    "import seaborn as sns\n",
    "import numpy as np\n",
    "from scipy.stats import ttest_ind # for our t-test\n",
    "from sklearn.decomposition import PCA # for our PCA\n",
    "\n",
    "# setting an option in pandas to prevent some unnecessary warnings\n",
    "pd.options.mode.chained_assignment = None "
   ],
   "metadata": {
    "collapsed": false,
    "ExecuteTime": {
     "end_time": "2024-07-31T15:43:21.225867Z",
     "start_time": "2024-07-31T15:43:21.205556Z"
    }
   },
   "execution_count": 282
  },
  {
   "cell_type": "markdown",
   "source": [
    "Load the `meta_data.csv` file into a pandas data frame and store it in a variable called `metadata`."
   ],
   "metadata": {
    "collapsed": false
   }
  },
  {
   "cell_type": "code",
   "outputs": [],
   "source": [
    "# Load meta_data.csv as a pandas data frame\n"
   ],
   "metadata": {
    "collapsed": false,
    "ExecuteTime": {
     "end_time": "2024-07-31T16:02:17.803022Z",
     "start_time": "2024-07-31T16:02:17.775863Z"
    }
   },
   "execution_count": 293
  },
  {
   "cell_type": "markdown",
   "source": [
    "# Meta Data\n",
    "\n",
    "Let's first view the metadata."
   ],
   "metadata": {
    "collapsed": false
   }
  },
  {
   "cell_type": "code",
   "outputs": [],
   "source": [],
   "metadata": {
    "collapsed": false
   },
   "execution_count": null
  },
  {
   "cell_type": "markdown",
   "source": [
    "Here, we have unique sample identifiers in the `Sample` column. We can see the cell types that were used in the `Cell-type` column and there were two treatments applied, a `Control` treatment and a `Stress` treatment."
   ],
   "metadata": {
    "collapsed": false
   }
  },
  {
   "cell_type": "markdown",
   "source": [
    "Without manually counting, let's report the number of samples we have for each Cell-type and Treatment combination.\n",
    "We can do this using the `.value_counts()` function on the rows of our data frame we want to summarize."
   ],
   "metadata": {
    "collapsed": false
   }
  },
  {
   "cell_type": "code",
   "outputs": [],
   "source": [
    "# use the value_counts() function to \n"
   ],
   "metadata": {
    "collapsed": false
   },
   "execution_count": null
  },
  {
   "cell_type": "markdown",
   "source": [
    "# Count Matrix\n",
    "Now, let's load in our RNAseq count matrix as a pandas data frame and store it in a variable called `data`."
   ],
   "metadata": {
    "collapsed": false
   }
  },
  {
   "cell_type": "code",
   "outputs": [],
   "source": [
    "# load count_matrix.csv as a pandas data frame and store in a variable called data\n"
   ],
   "metadata": {
    "collapsed": false
   },
   "execution_count": null
  },
  {
   "cell_type": "markdown",
   "source": [
    "In this file, we have our sample identifiers along the column names and gene names along the rows.\n",
    "How can we figure out how many genes we have in our data?"
   ],
   "metadata": {
    "collapsed": false
   }
  },
  {
   "cell_type": "code",
   "outputs": [],
   "source": [
    "# get the shape of the data\n"
   ],
   "metadata": {
    "collapsed": false
   },
   "execution_count": null
  },
  {
   "cell_type": "markdown",
   "source": [
    "# PCA\n",
    "Let's do a PCA to summarize the variation in our samples.\n",
    "We are going to use the `PCA` function from the `sklearn.decomposition` package for this analysis. From looking at the [documentation](https://scikit-learn.org/stable/modules/generated/sklearn.decomposition.PCA.html) for the function, we can see that the PCA function wants data in the format samples x features. Our data is currently features x samples, so we'll have to transpose our matrix before doing the PCA."
   ],
   "metadata": {
    "collapsed": false
   }
  },
  {
   "cell_type": "code",
   "outputs": [],
   "source": [
    "# transpose the data and store in a variable called t_data\n"
   ],
   "metadata": {
    "collapsed": false
   },
   "execution_count": null
  },
  {
   "cell_type": "markdown",
   "source": [
    "Now that our data is in the correct format, lets run the PCA, storing the results in a variable called `pca_out` and look at the output."
   ],
   "metadata": {
    "collapsed": false
   }
  },
  {
   "cell_type": "code",
   "outputs": [],
   "source": [
    "# run the PCA\n",
    "pca = PCA(n_components=2) # specify the number of principal components\n",
    "pca_out = pca.fit_transform(t_data) # run the analysis\n",
    "\n",
    "pca_out"
   ],
   "metadata": {
    "collapsed": false
   },
   "execution_count": null
  },
  {
   "cell_type": "markdown",
   "source": [
    "What data type did the pca give us?"
   ],
   "metadata": {
    "collapsed": false
   }
  },
  {
   "cell_type": "code",
   "outputs": [],
   "source": [],
   "metadata": {
    "collapsed": false
   },
   "execution_count": null
  },
  {
   "cell_type": "markdown",
   "source": [
    "We'll want to look at the PCA results in the context of the sample metadata, so let's add the PCA results we have to the metadata."
   ],
   "metadata": {
    "collapsed": false
   }
  },
  {
   "cell_type": "code",
   "outputs": [],
   "source": [
    "metadata[\"PC1\"] = pca_out[:, 0]\n",
    "metadata[\"PC2\"] = pca_out[:, 1]\n",
    "metadata"
   ],
   "metadata": {
    "collapsed": false
   },
   "execution_count": null
  },
  {
   "cell_type": "markdown",
   "source": [
    "Now, let's plot the PCA! We can use a scatter plot for this and let's use different colors and marker types to distinguish between the samples."
   ],
   "metadata": {
    "collapsed": false
   }
  },
  {
   "cell_type": "code",
   "outputs": [],
   "source": [
    "# plot the PCA results, coloring by Treatment and styling the points by Cell-type\n",
    "ax = sns.scatterplot(x=\"PC1\", y=\"PC2\", data=metadata, style=\"Cell-type\", hue=\"Treatment\")\n",
    "\n",
    "# move the legend outside the plot area so we can see the data more clearly\n",
    "sns.move_legend(ax, \"upper left\", bbox_to_anchor=(1, 1))"
   ],
   "metadata": {
    "collapsed": false
   },
   "execution_count": null
  },
  {
   "cell_type": "markdown",
   "source": [
    "It looks like one of our data points is separating pretty far away from the others on the PCA. Let's label the points to figure out which one it is."
   ],
   "metadata": {
    "collapsed": false
   }
  },
  {
   "cell_type": "code",
   "outputs": [],
   "source": [
    "# Color the PCA by sample number to figure out which sample it is\n",
    "ax = sns.scatterplot(x=\"PC1\", y=\"PC2\", data=metadata, style=\"Cell-type\", hue=\"Treatment\")\n",
    "sns.move_legend(ax, \"upper left\", bbox_to_anchor=(1, 1))\n",
    "\n",
    "# Add labels to the pca points\n",
    "for i in range(metadata.shape[0]):\n",
    "    line = metadata.iloc[i, :]\n",
    "    ax.text(line['PC1']+2, line['PC2'], str(line['Sample'])) \n",
    "    # the +2 above adjusts the x coord of the number label so it's not directly on the point"
   ],
   "metadata": {
    "collapsed": false
   },
   "execution_count": null
  },
  {
   "cell_type": "markdown",
   "source": [
    "Let's say we talk to the person who ran the experiment and find out that there were significant issues with prepping that sample and we decide to exclude it from our analyses."
   ],
   "metadata": {
    "collapsed": false
   }
  },
  {
   "cell_type": "code",
   "outputs": [],
   "source": [
    "# Exclude sample 12 from the data and metadata\n",
    "data = data.drop([\"S12\"], axis=1)\n",
    "metadata = metadata[metadata['Sample'] != \"S12\"]="
   ],
   "metadata": {
    "collapsed": false,
    "ExecuteTime": {
     "end_time": "2024-07-31T16:08:13.174119Z",
     "start_time": "2024-07-31T16:08:13.151242Z"
    }
   },
   "execution_count": 306
  },
  {
   "cell_type": "markdown",
   "source": [
    "Now, that we've excluded our outlier, let's rerun our PCA."
   ],
   "metadata": {
    "collapsed": false
   }
  },
  {
   "cell_type": "code",
   "outputs": [],
   "source": [
    "# Copy the code from above to recalculate the PCA\n",
    "pca = PCA(n_components=3) # specify the number of principal components\n",
    "pca_out = pca.fit_transform(data.transpose()) # run the analysis\n",
    "\n",
    "# Replace the PC1 and PC2 columns with our new analysis results\n",
    "metadata[\"PC1\"] = pca_out[:, 0]\n",
    "metadata[\"PC2\"] = pca_out[:, 1]\n",
    "\n",
    "metadata"
   ],
   "metadata": {
    "collapsed": false
   },
   "execution_count": null
  },
  {
   "cell_type": "markdown",
   "source": [],
   "metadata": {
    "collapsed": false
   }
  },
  {
   "cell_type": "code",
   "outputs": [],
   "source": [
    "ax = sns.scatterplot(x=\"PC1\", y=\"PC2\", data=metadata, style=\"Cell-type\", hue=\"Treatment\")\n",
    "sns.move_legend(ax, \"upper left\", bbox_to_anchor=(1, 1))"
   ],
   "metadata": {
    "collapsed": false
   },
   "execution_count": null
  },
  {
   "cell_type": "markdown",
   "source": [
    "# Calculate Statistics\n",
    "For the rest of our analysis, let's just look at the Bcells. Subset the data and metadata to just the Bcells. Store the subsetted dataframes in objects called `bcell_data` and `bcell_metadata`."
   ],
   "metadata": {
    "collapsed": false
   }
  },
  {
   "cell_type": "code",
   "outputs": [],
   "source": [
    "# subset metadata to only Bcells\n",
    "bcell_metadata = metadata[metadata[\"Cell-type\"] == \"Bcells\"]\n",
    "# subset data to only Bcell samples\n",
    "bcell_data = data[bcell_metadata[\"Sample\"]]"
   ],
   "metadata": {
    "collapsed": false,
    "ExecuteTime": {
     "end_time": "2024-07-31T16:14:23.678158Z",
     "start_time": "2024-07-31T16:14:23.662010Z"
    }
   },
   "execution_count": 320
  },
  {
   "cell_type": "markdown",
   "source": [
    "Next, let's extract the sample ids for each treatment since that's the id that our data matrix uses."
   ],
   "metadata": {
    "collapsed": false
   }
  },
  {
   "cell_type": "code",
   "outputs": [],
   "source": [
    "# get the names of the samples in each treatment\n",
    "control_samples = bcell_metadata[bcell_metadata[\"Treatment\"] == \"Control\"][\"Sample\"]\n",
    "stress_samples = bcell_metadata[bcell_metadata[\"Treatment\"] == \"Stress\"][\"Sample\"]"
   ],
   "metadata": {
    "collapsed": false,
    "ExecuteTime": {
     "end_time": "2024-07-31T15:25:28.495047Z",
     "start_time": "2024-07-31T15:25:28.485321Z"
    }
   },
   "execution_count": 259
  },
  {
   "cell_type": "markdown",
   "source": [
    "Now we can use the sample ids we just extracted to isolate the data for each treatment and calculate the log2 fold change. Log2 Fold change can be calculated per gene like:\n",
    "    log2( mean(treatment_data) / mean(control_data) )"
   ],
   "metadata": {
    "collapsed": false
   }
  },
  {
   "cell_type": "code",
   "outputs": [],
   "source": [
    "# calculate log2 fold change between control and stress\n",
    "log2fc = np.log2( np.mean(bcell_data[stress_samples], axis=1) / np.mean(bcell_data[control_samples], axis=1) )"
   ],
   "metadata": {
    "collapsed": false
   },
   "execution_count": null
  },
  {
   "cell_type": "code",
   "outputs": [],
   "source": [
    "bcell_data[\"log2FC\"] = log2fc\n",
    "bcell_data.head()"
   ],
   "metadata": {
    "collapsed": false
   },
   "execution_count": null
  },
  {
   "cell_type": "markdown",
   "source": [
    "How many genes have a log2FC > 1 in our comparison?"
   ],
   "metadata": {
    "collapsed": false
   }
  },
  {
   "cell_type": "code",
   "outputs": [],
   "source": [],
   "metadata": {
    "collapsed": false
   },
   "execution_count": null
  },
  {
   "cell_type": "markdown",
   "source": [
    "How many genes have a log2FC < -1 in our comparison?"
   ],
   "metadata": {
    "collapsed": false
   }
  },
  {
   "cell_type": "code",
   "outputs": [],
   "source": [],
   "metadata": {
    "collapsed": false
   },
   "execution_count": null
  },
  {
   "cell_type": "markdown",
   "source": [
    "Lastly, let's test if the difference in the means between our two treatments is significant with a t-test."
   ],
   "metadata": {
    "collapsed": false
   }
  },
  {
   "cell_type": "code",
   "outputs": [],
   "source": [
    "# initialize columns for pvalues\n",
    "bcell_data[\"pval\"] = None\n",
    "bcell_data[\"neg_log10_pval\"] = None\n",
    "\n",
    "# loop through each gene\n",
    "for gene in bcell_data.index:\n",
    "    # get the expression data for each condition for the current gene\n",
    "    stress_gene_data = bcell_data[stress_samples].loc[gene,:]\n",
    "    control_gene_data = bcell_data[control_samples].loc[gene,:]\n",
    "\n",
    "    # run a t-test and extract the p-value\n",
    "    pval = ttest_ind(stress_gene_data, control_gene_data).pvalue\n",
    "    \n",
    "    # store the p-value in the pval column for that gene\n",
    "    bcell_data.loc[gene,\"pval\"] = pval\n",
    "    # calculate the -log10(pvalue) and store in the neg_log10_pval column\n",
    "    bcell_data.loc[gene,\"neg_log10_pval\"] = -np.log10(pval)\n",
    "    \n",
    "bcell_data.head()"
   ],
   "metadata": {
    "collapsed": false
   },
   "execution_count": null
  },
  {
   "cell_type": "markdown",
   "source": [
    "A common way to visualize this type of data is with a volcano plot, where Log2 fold change is on the x-axis and -Log10(pvalue) is on the y-axis. Let's use a scatter plot to make this."
   ],
   "metadata": {
    "collapsed": false
   }
  },
  {
   "cell_type": "code",
   "outputs": [],
   "source": [
    "ax = sns.scatterplot(x=\"log2FC\", y=\"neg_log10_pval\", data=bcell_data)\n",
    "ax"
   ],
   "metadata": {
    "collapsed": false
   },
   "execution_count": null
  },
  {
   "cell_type": "markdown",
   "source": [
    "It'd be helpful if we could highlight which genes pass certain log2 fold change and/or pvalue thresholds. Let's build a logical statement to test if each gene is \"significant\" (in this case, has a log2FC > 1 OR a log2FC < 1 AND a pvalue < 0.05). \n",
    "Let's store the result in a column called \"significant\" in our bcell_data data frame so we can use it for plotting."
   ],
   "metadata": {
    "collapsed": false
   }
  },
  {
   "cell_type": "code",
   "outputs": [],
   "source": [
    "# conditional statement that returns T/F if gene passes thresholds\n"
   ],
   "metadata": {
    "collapsed": false,
    "ExecuteTime": {
     "end_time": "2024-07-31T16:51:37.036950Z",
     "start_time": "2024-07-31T16:51:37.029447Z"
    }
   },
   "execution_count": 341
  },
  {
   "cell_type": "markdown",
   "source": [
    "Let's make the same volcano plot, now coloring by significance."
   ],
   "metadata": {
    "collapsed": false
   }
  },
  {
   "cell_type": "code",
   "outputs": [],
   "source": [
    "ax = sns.scatterplot(x=\"log2FC\", y=\"neg_log10_pval\", data=bcell_data, hue=\"significant\", legend=False)\n",
    "ax.set(xlabel='Log2FC', ylabel='-Log10(pval)', title='Differentially Expressed Genes Between\\n Stress and Control in Bcells')\n",
    "\n",
    "ax"
   ],
   "metadata": {
    "collapsed": false
   },
   "execution_count": null
  }
 ],
 "metadata": {
  "interpreter": {
   "hash": "c4d4cf0f866ef5d608adbb3b8114bb30b4107b67947e423d500be3fa738ca8f5"
  },
  "kernelspec": {
   "display_name": "Python 3",
   "language": "python",
   "name": "python3"
  },
  "language_info": {
   "codemirror_mode": {
    "name": "ipython",
    "version": 3
   },
   "file_extension": ".py",
   "mimetype": "text/x-python",
   "name": "python",
   "nbconvert_exporter": "python",
   "pygments_lexer": "ipython3",
   "version": "3.8.3"
  }
 },
 "nbformat": 4,
 "nbformat_minor": 4
}
